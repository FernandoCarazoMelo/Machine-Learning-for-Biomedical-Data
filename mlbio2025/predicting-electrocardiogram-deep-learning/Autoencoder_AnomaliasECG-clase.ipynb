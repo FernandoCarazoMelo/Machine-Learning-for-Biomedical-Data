{
 "cells": [
  {
   "cell_type": "markdown",
   "metadata": {
    "id": "4xYS6K7IpGCk"
   },
   "source": [
    "# Autoencoders para la detección de anomalías cardiacas\n"
   ]
  },
  {
   "cell_type": "markdown",
   "metadata": {
    "id": "2LhggqVYpbKD"
   },
   "source": [
    "## 1- El problema a resolver\n",
    "\n",
    "Detectar la presencia (sujeto _anormal_) o ausencia (sujeto _normal_) de irregularidades en el ritmo cardiaco, a partir de señales electrocardiográficas (ECG):\n",
    "\n",
    "![](https://drive.google.com/uc?export=view&id=1pzydaNRbcSh1E-S4Ebh0jJEqsim6DeM9)\n",
    "\n",
    "El problema es que usualmente se cuenta con sets de datos **desbalanceados** con más datos normales que anormales.\n"
   ]
  },
  {
   "attachments": {},
   "cell_type": "markdown",
   "metadata": {
    "id": "4lYLeQiZqBU_"
   },
   "source": [
    "## 2 El set de datos\n",
    "\n",
    "Se usará el set [ECG5000](https://timeseriesclassification.com/description.php?Dataset=ECG5000) con 7600 datos de entrenamiento y 1900 de prueba.\n",
    "\n",
    "Cada dato contiene un ciclo cardiaco con 140 muestras, y que puede pertenecer a una de 5 categorías:\n",
    "\n",
    "1. Normal\n",
    "2. Anormal: contracción ventricular prematura\n",
    "3. Anormal: contracción supra-ventricular prematura\n",
    "4. Anormal: latido ectópico\n",
    "5. Anormal pero patología desconocida\n",
    "\n",
    "![](https://drive.google.com/uc?export=view&id=1x_sUD1rbM4MM4--s9D4wacRIWEo8aAzL)\n"
   ]
  },
  {
   "cell_type": "markdown",
   "metadata": {
    "id": "Hu3rYuYQrp6z"
   },
   "source": [
    "## 3- Autoencoders y detección de anomalías\n",
    "\n",
    "El problema del set ECG5000 es que contiene 4427 datos normales y 3173 anormales, es decir está desbalanceado.\n",
    "\n",
    "De hecho para ciertas categorías anormales (2 a 4) se tienen muy pocos datos:\n",
    "\n",
    "| Categoría   | Nro. datos |\n",
    "| ----------- | ---------- |\n",
    "| 1 (normal)  | 4427       |\n",
    "| 2 (anormal) | 2683       |\n",
    "| 3 (anormal) | 149        |\n",
    "| 4 (anormal) | 306        |\n",
    "| 5 (anormal) | 35         |\n",
    "\n",
    "Así que en lugar de un modelo de clasificación convencional (como una Red Neuronal) se usará un Autoencoder:\n",
    "\n",
    "![](https://drive.google.com/uc?export=view&id=1LnoIDmfctQr5wmJaojFrZEA1ygPynylu)\n",
    "\n",
    "El autoencoder se entrenará **únicamente con datos normales**. Así, al reconstruir un dato anormal **el error será alto**.\n"
   ]
  },
  {
   "cell_type": "markdown",
   "metadata": {
    "id": "yhx-88b5zFoF"
   },
   "source": [
    "## 4- Implementación\n"
   ]
  },
  {
   "cell_type": "markdown",
   "metadata": {
    "id": "i1Zh8TFtzQyO"
   },
   "source": [
    "### 4.1. Preparación de Google Drive y lectura de los sets de entrenamiento y prueba\n"
   ]
  },
  {
   "cell_type": "code",
   "execution_count": 10,
   "metadata": {},
   "outputs": [],
   "source": [
    "import pandas as pd\n",
    "import keras\n",
    "import numpy as np\n",
    "import matplotlib.pyplot as plt"
   ]
  },
  {
   "cell_type": "code",
   "execution_count": 11,
   "metadata": {},
   "outputs": [
    {
     "data": {
      "text/plain": [
       "'3.0.5'"
      ]
     },
     "execution_count": 11,
     "metadata": {},
     "output_type": "execute_result"
    }
   ],
   "source": [
    "keras.__version__"
   ]
  },
  {
   "cell_type": "code",
   "execution_count": 3,
   "metadata": {
    "colab": {
     "base_uri": "https://localhost:8080/"
    },
    "executionInfo": {
     "elapsed": 30941,
     "status": "ok",
     "timestamp": 1624650063874,
     "user": {
      "displayName": "Miguel Sotaquirá",
      "photoUrl": "https://lh3.googleusercontent.com/a-/AOh14Giuk6OGsE84qo69ZTgJj4B328D6GfU4etVY0q9AUg=s64",
      "userId": "08038952820764930757"
     },
     "user_tz": 300
    },
    "id": "rm0D11q3dX5a",
    "outputId": "60204f87-19ed-43f7-b326-562330872c33"
   },
   "outputs": [],
   "source": [
    "# from google.colab import drive\n",
    "# drive.mount('/gdrive')"
   ]
  },
  {
   "cell_type": "code",
   "execution_count": 2,
   "metadata": {
    "executionInfo": {
     "elapsed": 2693,
     "status": "ok",
     "timestamp": 1624650086729,
     "user": {
      "displayName": "Miguel Sotaquirá",
      "photoUrl": "https://lh3.googleusercontent.com/a-/AOh14Giuk6OGsE84qo69ZTgJj4B328D6GfU4etVY0q9AUg=s64",
      "userId": "08038952820764930757"
     },
     "user_tz": 300
    },
    "id": "vKjm_ef9dX5b"
   },
   "outputs": [],
   "source": [
    "ruta = \"/gdrive/MyDrive/videos/2021-06-25/\"\n",
    "ruta = \"\"\n",
    "\n",
    "df_train = pd.read_csv(ruta + \"ECG5000_train.csv\")\n",
    "df_test = pd.read_csv(ruta + \"ECG5000_test.csv\")"
   ]
  },
  {
   "cell_type": "code",
   "execution_count": 3,
   "metadata": {
    "colab": {
     "base_uri": "https://localhost:8080/"
    },
    "executionInfo": {
     "elapsed": 175,
     "status": "ok",
     "timestamp": 1624650090785,
     "user": {
      "displayName": "Miguel Sotaquirá",
      "photoUrl": "https://lh3.googleusercontent.com/a-/AOh14Giuk6OGsE84qo69ZTgJj4B328D6GfU4etVY0q9AUg=s64",
      "userId": "08038952820764930757"
     },
     "user_tz": 300
    },
    "id": "jI2mTmbKdrty",
    "outputId": "e5016b7a-b00f-4752-a913-13e630812e14"
   },
   "outputs": [
    {
     "data": {
      "text/plain": [
       "((7600, 141), (1900, 141))"
      ]
     },
     "execution_count": 3,
     "metadata": {},
     "output_type": "execute_result"
    }
   ],
   "source": [
    "df_train.shape, df_test.shape"
   ]
  },
  {
   "cell_type": "code",
   "execution_count": 4,
   "metadata": {
    "colab": {
     "base_uri": "https://localhost:8080/",
     "height": 253
    },
    "executionInfo": {
     "elapsed": 183,
     "status": "ok",
     "timestamp": 1624650121857,
     "user": {
      "displayName": "Miguel Sotaquirá",
      "photoUrl": "https://lh3.googleusercontent.com/a-/AOh14Giuk6OGsE84qo69ZTgJj4B328D6GfU4etVY0q9AUg=s64",
      "userId": "08038952820764930757"
     },
     "user_tz": 300
    },
    "id": "ORzY7-3AvPwZ",
    "outputId": "bc4a6f65-a588-4ec4-ee98-f7f34dc7c29e"
   },
   "outputs": [
    {
     "data": {
      "application/vnd.microsoft.datawrangler.viewer.v0+json": {
       "columns": [
        {
         "name": "index",
         "rawType": "int64",
         "type": "integer"
        },
        {
         "name": "0",
         "rawType": "int64",
         "type": "integer"
        },
        {
         "name": "1",
         "rawType": "float64",
         "type": "float"
        },
        {
         "name": "2",
         "rawType": "float64",
         "type": "float"
        },
        {
         "name": "3",
         "rawType": "float64",
         "type": "float"
        },
        {
         "name": "4",
         "rawType": "float64",
         "type": "float"
        },
        {
         "name": "5",
         "rawType": "float64",
         "type": "float"
        },
        {
         "name": "6",
         "rawType": "float64",
         "type": "float"
        },
        {
         "name": "7",
         "rawType": "float64",
         "type": "float"
        },
        {
         "name": "8",
         "rawType": "float64",
         "type": "float"
        },
        {
         "name": "9",
         "rawType": "float64",
         "type": "float"
        },
        {
         "name": "10",
         "rawType": "float64",
         "type": "float"
        },
        {
         "name": "11",
         "rawType": "float64",
         "type": "float"
        },
        {
         "name": "12",
         "rawType": "float64",
         "type": "float"
        },
        {
         "name": "13",
         "rawType": "float64",
         "type": "float"
        },
        {
         "name": "14",
         "rawType": "float64",
         "type": "float"
        },
        {
         "name": "15",
         "rawType": "float64",
         "type": "float"
        },
        {
         "name": "16",
         "rawType": "float64",
         "type": "float"
        },
        {
         "name": "17",
         "rawType": "float64",
         "type": "float"
        },
        {
         "name": "18",
         "rawType": "float64",
         "type": "float"
        },
        {
         "name": "19",
         "rawType": "float64",
         "type": "float"
        },
        {
         "name": "20",
         "rawType": "float64",
         "type": "float"
        },
        {
         "name": "21",
         "rawType": "float64",
         "type": "float"
        },
        {
         "name": "22",
         "rawType": "float64",
         "type": "float"
        },
        {
         "name": "23",
         "rawType": "float64",
         "type": "float"
        },
        {
         "name": "24",
         "rawType": "float64",
         "type": "float"
        },
        {
         "name": "25",
         "rawType": "float64",
         "type": "float"
        },
        {
         "name": "26",
         "rawType": "float64",
         "type": "float"
        },
        {
         "name": "27",
         "rawType": "float64",
         "type": "float"
        },
        {
         "name": "28",
         "rawType": "float64",
         "type": "float"
        },
        {
         "name": "29",
         "rawType": "float64",
         "type": "float"
        },
        {
         "name": "30",
         "rawType": "float64",
         "type": "float"
        },
        {
         "name": "31",
         "rawType": "float64",
         "type": "float"
        },
        {
         "name": "32",
         "rawType": "float64",
         "type": "float"
        },
        {
         "name": "33",
         "rawType": "float64",
         "type": "float"
        },
        {
         "name": "34",
         "rawType": "float64",
         "type": "float"
        },
        {
         "name": "35",
         "rawType": "float64",
         "type": "float"
        },
        {
         "name": "36",
         "rawType": "float64",
         "type": "float"
        },
        {
         "name": "37",
         "rawType": "float64",
         "type": "float"
        },
        {
         "name": "38",
         "rawType": "float64",
         "type": "float"
        },
        {
         "name": "39",
         "rawType": "float64",
         "type": "float"
        },
        {
         "name": "40",
         "rawType": "float64",
         "type": "float"
        },
        {
         "name": "41",
         "rawType": "float64",
         "type": "float"
        },
        {
         "name": "42",
         "rawType": "float64",
         "type": "float"
        },
        {
         "name": "43",
         "rawType": "float64",
         "type": "float"
        },
        {
         "name": "44",
         "rawType": "float64",
         "type": "float"
        },
        {
         "name": "45",
         "rawType": "float64",
         "type": "float"
        },
        {
         "name": "46",
         "rawType": "float64",
         "type": "float"
        },
        {
         "name": "47",
         "rawType": "float64",
         "type": "float"
        },
        {
         "name": "48",
         "rawType": "float64",
         "type": "float"
        },
        {
         "name": "49",
         "rawType": "float64",
         "type": "float"
        },
        {
         "name": "50",
         "rawType": "float64",
         "type": "float"
        },
        {
         "name": "51",
         "rawType": "float64",
         "type": "float"
        },
        {
         "name": "52",
         "rawType": "float64",
         "type": "float"
        },
        {
         "name": "53",
         "rawType": "float64",
         "type": "float"
        },
        {
         "name": "54",
         "rawType": "float64",
         "type": "float"
        },
        {
         "name": "55",
         "rawType": "float64",
         "type": "float"
        },
        {
         "name": "56",
         "rawType": "float64",
         "type": "float"
        },
        {
         "name": "57",
         "rawType": "float64",
         "type": "float"
        },
        {
         "name": "58",
         "rawType": "float64",
         "type": "float"
        },
        {
         "name": "59",
         "rawType": "float64",
         "type": "float"
        },
        {
         "name": "60",
         "rawType": "float64",
         "type": "float"
        },
        {
         "name": "61",
         "rawType": "float64",
         "type": "float"
        },
        {
         "name": "62",
         "rawType": "float64",
         "type": "float"
        },
        {
         "name": "63",
         "rawType": "float64",
         "type": "float"
        },
        {
         "name": "64",
         "rawType": "float64",
         "type": "float"
        },
        {
         "name": "65",
         "rawType": "float64",
         "type": "float"
        },
        {
         "name": "66",
         "rawType": "float64",
         "type": "float"
        },
        {
         "name": "67",
         "rawType": "float64",
         "type": "float"
        },
        {
         "name": "68",
         "rawType": "float64",
         "type": "float"
        },
        {
         "name": "69",
         "rawType": "float64",
         "type": "float"
        },
        {
         "name": "70",
         "rawType": "float64",
         "type": "float"
        },
        {
         "name": "71",
         "rawType": "float64",
         "type": "float"
        },
        {
         "name": "72",
         "rawType": "float64",
         "type": "float"
        },
        {
         "name": "73",
         "rawType": "float64",
         "type": "float"
        },
        {
         "name": "74",
         "rawType": "float64",
         "type": "float"
        },
        {
         "name": "75",
         "rawType": "float64",
         "type": "float"
        },
        {
         "name": "76",
         "rawType": "float64",
         "type": "float"
        },
        {
         "name": "77",
         "rawType": "float64",
         "type": "float"
        },
        {
         "name": "78",
         "rawType": "float64",
         "type": "float"
        },
        {
         "name": "79",
         "rawType": "float64",
         "type": "float"
        },
        {
         "name": "80",
         "rawType": "float64",
         "type": "float"
        },
        {
         "name": "81",
         "rawType": "float64",
         "type": "float"
        },
        {
         "name": "82",
         "rawType": "float64",
         "type": "float"
        },
        {
         "name": "83",
         "rawType": "float64",
         "type": "float"
        },
        {
         "name": "84",
         "rawType": "float64",
         "type": "float"
        },
        {
         "name": "85",
         "rawType": "float64",
         "type": "float"
        },
        {
         "name": "86",
         "rawType": "float64",
         "type": "float"
        },
        {
         "name": "87",
         "rawType": "float64",
         "type": "float"
        },
        {
         "name": "88",
         "rawType": "float64",
         "type": "float"
        },
        {
         "name": "89",
         "rawType": "float64",
         "type": "float"
        },
        {
         "name": "90",
         "rawType": "float64",
         "type": "float"
        },
        {
         "name": "91",
         "rawType": "float64",
         "type": "float"
        },
        {
         "name": "92",
         "rawType": "float64",
         "type": "float"
        },
        {
         "name": "93",
         "rawType": "float64",
         "type": "float"
        },
        {
         "name": "94",
         "rawType": "float64",
         "type": "float"
        },
        {
         "name": "95",
         "rawType": "float64",
         "type": "float"
        },
        {
         "name": "96",
         "rawType": "float64",
         "type": "float"
        },
        {
         "name": "97",
         "rawType": "float64",
         "type": "float"
        },
        {
         "name": "98",
         "rawType": "float64",
         "type": "float"
        },
        {
         "name": "99",
         "rawType": "float64",
         "type": "float"
        },
        {
         "name": "100",
         "rawType": "float64",
         "type": "float"
        },
        {
         "name": "101",
         "rawType": "float64",
         "type": "float"
        },
        {
         "name": "102",
         "rawType": "float64",
         "type": "float"
        },
        {
         "name": "103",
         "rawType": "float64",
         "type": "float"
        },
        {
         "name": "104",
         "rawType": "float64",
         "type": "float"
        },
        {
         "name": "105",
         "rawType": "float64",
         "type": "float"
        },
        {
         "name": "106",
         "rawType": "float64",
         "type": "float"
        },
        {
         "name": "107",
         "rawType": "float64",
         "type": "float"
        },
        {
         "name": "108",
         "rawType": "float64",
         "type": "float"
        },
        {
         "name": "109",
         "rawType": "float64",
         "type": "float"
        },
        {
         "name": "110",
         "rawType": "float64",
         "type": "float"
        },
        {
         "name": "111",
         "rawType": "float64",
         "type": "float"
        },
        {
         "name": "112",
         "rawType": "float64",
         "type": "float"
        },
        {
         "name": "113",
         "rawType": "float64",
         "type": "float"
        },
        {
         "name": "114",
         "rawType": "float64",
         "type": "float"
        },
        {
         "name": "115",
         "rawType": "float64",
         "type": "float"
        },
        {
         "name": "116",
         "rawType": "float64",
         "type": "float"
        },
        {
         "name": "117",
         "rawType": "float64",
         "type": "float"
        },
        {
         "name": "118",
         "rawType": "float64",
         "type": "float"
        },
        {
         "name": "119",
         "rawType": "float64",
         "type": "float"
        },
        {
         "name": "120",
         "rawType": "float64",
         "type": "float"
        },
        {
         "name": "121",
         "rawType": "float64",
         "type": "float"
        },
        {
         "name": "122",
         "rawType": "float64",
         "type": "float"
        },
        {
         "name": "123",
         "rawType": "float64",
         "type": "float"
        },
        {
         "name": "124",
         "rawType": "float64",
         "type": "float"
        },
        {
         "name": "125",
         "rawType": "float64",
         "type": "float"
        },
        {
         "name": "126",
         "rawType": "float64",
         "type": "float"
        },
        {
         "name": "127",
         "rawType": "float64",
         "type": "float"
        },
        {
         "name": "128",
         "rawType": "float64",
         "type": "float"
        },
        {
         "name": "129",
         "rawType": "float64",
         "type": "float"
        },
        {
         "name": "130",
         "rawType": "float64",
         "type": "float"
        },
        {
         "name": "131",
         "rawType": "float64",
         "type": "float"
        },
        {
         "name": "132",
         "rawType": "float64",
         "type": "float"
        },
        {
         "name": "133",
         "rawType": "float64",
         "type": "float"
        },
        {
         "name": "134",
         "rawType": "float64",
         "type": "float"
        },
        {
         "name": "135",
         "rawType": "float64",
         "type": "float"
        },
        {
         "name": "136",
         "rawType": "float64",
         "type": "float"
        },
        {
         "name": "137",
         "rawType": "float64",
         "type": "float"
        },
        {
         "name": "138",
         "rawType": "float64",
         "type": "float"
        },
        {
         "name": "139",
         "rawType": "float64",
         "type": "float"
        },
        {
         "name": "140",
         "rawType": "float64",
         "type": "float"
        }
       ],
       "conversionMethod": "pd.DataFrame",
       "ref": "03d89d5c-bc42-4da6-8e0a-aa1f6218212b",
       "rows": [
        [
         "0",
         "1",
         "-1.303",
         "-0.83573",
         "-1.9336",
         "-2.0942",
         "-2.0284",
         "-1.2531",
         "-0.52638",
         "-0.089286",
         "-0.07557",
         "0.37087",
         "0.56642",
         "0.54261",
         "0.66121",
         "0.62479",
         "0.74207",
         "0.7677",
         "0.81974",
         "0.83575",
         "0.76076",
         "0.81097",
         "0.81676",
         "0.88772",
         "0.89175",
         "0.87736",
         "0.88914",
         "0.86543",
         "0.89386",
         "0.89202",
         "0.85169",
         "0.85788",
         "0.83076",
         "0.84067",
         "0.86144",
         "0.85443",
         "0.80275",
         "0.81368",
         "0.82726",
         "0.80169",
         "0.8109",
         "0.81251",
         "0.76062",
         "0.85654",
         "0.82028",
         "0.84261",
         "0.89254",
         "0.87871",
         "0.91693",
         "0.92075",
         "0.93077",
         "0.92411",
         "0.89324",
         "0.89059",
         "0.86815",
         "0.85874",
         "0.83566",
         "0.86056",
         "0.80957",
         "0.80882",
         "0.81247",
         "0.78027",
         "0.74263",
         "0.76955",
         "0.70106",
         "0.71235",
         "0.74905",
         "0.6885",
         "0.65564",
         "0.63433",
         "0.63424",
         "0.61954",
         "0.60554",
         "0.60386",
         "0.63192",
         "0.64381",
         "0.62249",
         "0.54083",
         "0.57724",
         "0.56744",
         "0.54524",
         "0.48595",
         "0.43449",
         "0.44157",
         "0.29382",
         "0.37885",
         "0.30169",
         "0.29476",
         "0.17389",
         "0.15492",
         "0.13691",
         "0.10333",
         "0.064526",
         "-0.0054644",
         "-0.0094918",
         "-0.042242",
         "0.023538",
         "-0.0029253",
         "0.040752",
         "0.080134",
         "0.10304",
         "0.18246",
         "0.17621",
         "0.21094",
         "0.20356",
         "0.12882",
         "0.1211",
         "0.060584",
         "-0.036151",
         "-0.15962",
         "-0.36932",
         "-0.48888",
         "-0.72672",
         "-0.99073",
         "-1.1306",
         "-1.2867",
         "-1.242",
         "-1.2872",
         "-1.3569",
         "-1.3886",
         "-1.5454",
         "-1.503",
         "-1.6047",
         "-1.5636",
         "-1.6109",
         "-1.6647",
         "-1.8351",
         "-1.849",
         "-1.8306",
         "-1.7803",
         "-1.7431",
         "-1.4555",
         "-1.4582",
         "-1.6676",
         "-1.5977",
         "-1.6793",
         "-1.6772",
         "-1.6937",
         "-1.7941",
         "-1.3594",
         "-2.0812",
         "-2.8288"
        ],
        [
         "1",
         "2",
         "0.32288",
         "-0.87847",
         "-1.8023",
         "-2.6685",
         "-3.2655",
         "-3.3326",
         "-2.88",
         "-2.2274",
         "-1.5436",
         "-0.97706",
         "-0.76983",
         "-0.70974",
         "-0.28113",
         "0.15679",
         "0.38162",
         "0.46802",
         "0.43842",
         "0.37023",
         "0.23492",
         "0.18923",
         "0.24149",
         "0.30124",
         "0.29042",
         "0.282",
         "0.23152",
         "0.23147",
         "0.23528",
         "0.14181",
         "0.22672",
         "0.17502",
         "0.17585",
         "0.18336",
         "0.092464",
         "0.0053768",
         "-0.078705",
         "0.0331",
         "0.10339",
         "-0.051258",
         "0.0029613",
         "-0.033993",
         "-0.14975",
         "-0.10829",
         "-0.22718",
         "-0.1594",
         "-0.20009",
         "-0.25992",
         "-0.27642",
         "-0.33333",
         "-0.36568",
         "-0.32052",
         "-0.2559",
         "-0.29253",
         "-0.17949",
         "-0.16856",
         "-0.20365",
         "-0.097215",
         "-0.079759",
         "-0.059643",
         "0.019866",
         "0.066975",
         "0.12712",
         "0.20428",
         "0.25474",
         "0.39822",
         "0.42781",
         "0.42162",
         "0.47939",
         "0.40572",
         "0.39225",
         "0.45919",
         "0.47891",
         "0.43304",
         "0.5417",
         "0.52859",
         "0.50463",
         "0.44518",
         "0.41205",
         "0.43953",
         "0.55098",
         "0.56046",
         "0.53834",
         "0.5664",
         "0.5597",
         "0.5327",
         "0.60353",
         "0.64395",
         "0.656",
         "0.7483",
         "0.71818",
         "0.7214",
         "0.7414",
         "0.68545",
         "0.73037",
         "0.78486",
         "0.82626",
         "0.79222",
         "0.75102",
         "0.8351",
         "0.85234",
         "0.81151",
         "0.90389",
         "0.98836",
         "0.87212",
         "0.90944",
         "0.96901",
         "0.94702",
         "0.96925",
         "0.96811",
         "1.031",
         "1.0236",
         "0.98695",
         "0.97388",
         "0.83435",
         "0.91798",
         "0.89487",
         "0.98121",
         "0.77954",
         "0.60109",
         "0.51678",
         "0.43719",
         "0.44818",
         "0.30539",
         "0.15175",
         "-0.045591",
         "-0.25836",
         "-0.33189",
         "-0.35901",
         "-0.29597",
         "-0.26956",
         "-0.69683",
         "-1.2305",
         "-1.7218",
         "-2.1953",
         "-2.7489",
         "-3.4465",
         "-3.6621",
         "-3.0182",
         "-1.6514",
         "-0.2367",
         "0.82832"
        ],
        [
         "2",
         "2",
         "1.3934",
         "1.5926",
         "1.242",
         "0.79449",
         "0.19577",
         "-0.3156",
         "-0.58053",
         "-0.94502",
         "-1.2335",
         "-1.3179",
         "-1.3282",
         "-1.1427",
         "-0.85536",
         "-0.50753",
         "-0.21569",
         "-0.13837",
         "-0.1421",
         "-0.035537",
         "0.28042",
         "0.51453",
         "0.53823",
         "0.55477",
         "0.53627",
         "0.49089",
         "0.49694",
         "0.57934",
         "0.64473",
         "0.59247",
         "0.53083",
         "0.47033",
         "0.45692",
         "0.52115",
         "0.51159",
         "0.49617",
         "0.55631",
         "0.56821",
         "0.5357",
         "0.4952",
         "0.4352",
         "0.45055",
         "0.46012",
         "0.43045",
         "0.46246",
         "0.47138",
         "0.45746",
         "0.39763",
         "0.31637",
         "0.32207",
         "0.32718",
         "0.32928",
         "0.34536",
         "0.31628",
         "0.30538",
         "0.32634",
         "0.28996",
         "0.22585",
         "0.2208",
         "0.23477",
         "0.24809",
         "0.24939",
         "0.16131",
         "0.11029",
         "0.16623",
         "0.16998",
         "0.14591",
         "0.14076",
         "0.088785",
         "0.057097",
         "0.088409",
         "0.088185",
         "0.055678",
         "0.069079",
         "0.11565",
         "0.11426",
         "0.063366",
         "0.07994",
         "0.16417",
         "0.19978",
         "0.18189",
         "0.19994",
         "0.26512",
         "0.29106",
         "0.26579",
         "0.28773",
         "0.32439",
         "0.3207",
         "0.38925",
         "0.45445",
         "0.41159",
         "0.44576",
         "0.51821",
         "0.46258",
         "0.49753",
         "0.57299",
         "0.49482",
         "0.49563",
         "0.53861",
         "0.5427",
         "0.57705",
         "0.58938",
         "0.61854",
         "0.62773",
         "0.6347",
         "0.64032",
         "0.57703",
         "0.59612",
         "0.67918",
         "0.61694",
         "0.55551",
         "0.60792",
         "0.61381",
         "0.60917",
         "0.59986",
         "0.56488",
         "0.50019",
         "0.3676",
         "0.28932",
         "0.25419",
         "0.26139",
         "0.22714",
         "0.024193",
         "-0.12737",
         "-0.19262",
         "-0.31587",
         "-0.54165",
         "-0.76463",
         "-0.79023",
         "-0.82569",
         "-1.1135",
         "-1.4764",
         "-1.9085",
         "-2.5295",
         "-3.0614",
         "-3.5037",
         "-3.9004",
         "-4.246",
         "-4.1338",
         "-3.1985",
         "-2.422",
         "-1.0737"
        ],
        [
         "3",
         "1",
         "-3.5227",
         "-5.0261",
         "-4.3613",
         "-4.1057",
         "-3.1042",
         "-1.8178",
         "-1.3984",
         "-1.0701",
         "-0.40691",
         "-0.2678",
         "-0.22567",
         "-0.29459",
         "-0.17663",
         "-0.18777",
         "-0.19646",
         "-0.13372",
         "-0.16795",
         "-0.18707",
         "-0.11136",
         "-0.16066",
         "-0.21886",
         "-0.25888",
         "-0.25794",
         "-0.35207",
         "-0.41271",
         "-0.40929",
         "-0.47057",
         "-0.35898",
         "-0.45973",
         "-0.53768",
         "-0.58698",
         "-0.60378",
         "-0.58035",
         "-0.63102",
         "-0.67307",
         "-0.57797",
         "-0.58204",
         "-0.59255",
         "-0.46873",
         "-0.43539",
         "-0.32198",
         "-0.28924",
         "-0.22582",
         "-0.17307",
         "-0.11836",
         "-0.033835",
         "0.052454",
         "0.014458",
         "0.011943",
         "0.029111",
         "0.11302",
         "0.097927",
         "0.0097399",
         "0.097481",
         "0.032082",
         "0.12525",
         "0.053519",
         "0.10327",
         "0.16788",
         "0.096668",
         "0.10197",
         "0.19776",
         "0.2466",
         "0.27402",
         "0.33105",
         "0.31801",
         "0.23564",
         "0.38729",
         "0.45716",
         "0.43044",
         "0.48595",
         "0.48228",
         "0.48955",
         "0.58138",
         "0.63195",
         "0.49396",
         "0.55822",
         "0.47727",
         "0.46342",
         "0.43103",
         "0.50492",
         "0.45554",
         "0.41559",
         "0.42373",
         "0.40313",
         "0.43387",
         "0.41414",
         "0.40804",
         "0.40774",
         "0.27992",
         "0.32751",
         "0.35093",
         "0.3315",
         "0.46125",
         "0.63076",
         "0.74827",
         "0.92911",
         "1.0544",
         "1.2353",
         "1.2945",
         "1.5687",
         "1.7036",
         "1.6061",
         "1.5861",
         "1.5873",
         "1.3821",
         "1.1945",
         "0.96238",
         "0.8369",
         "0.56481",
         "0.27801",
         "-0.06689",
         "-0.15102",
         "-0.13651",
         "-0.19678",
         "-0.1613",
         "-0.17972",
         "-0.18722",
         "-0.23825",
         "-0.23132",
         "-0.23304",
         "-0.24635",
         "-0.16764",
         "-0.10242",
         "-0.22879",
         "-0.16076",
         "-0.14332",
         "-0.070402",
         "0.25943",
         "0.63877",
         "0.83038",
         "1.0084",
         "1.183",
         "0.94636",
         "0.95213",
         "0.79343",
         "0.84741",
         "1.0139",
         "0.31234",
         "-2.1906"
        ],
        [
         "4",
         "1",
         "-1.9182",
         "-3.2251",
         "-3.4652",
         "-4.008",
         "-3.8703",
         "-3.3581",
         "-2.2854",
         "-1.7285",
         "-1.4222",
         "-0.89887",
         "-0.53819",
         "-0.62751",
         "-0.66393",
         "-0.57033",
         "-0.53109",
         "-0.58764",
         "-0.5794",
         "-0.5854",
         "-0.51963",
         "-0.56812",
         "-0.59811",
         "-0.45864",
         "-0.4824",
         "-0.49757",
         "-0.54754",
         "-0.5965",
         "-0.4929",
         "-0.47874",
         "-0.57125",
         "-0.50545",
         "-0.49044",
         "-0.49744",
         "-0.47791",
         "-0.56175",
         "-0.49613",
         "-0.56496",
         "-0.53351",
         "-0.44147",
         "-0.49832",
         "-0.40248",
         "-0.35223",
         "-0.20589",
         "-0.24439",
         "-0.2258",
         "-0.12637",
         "-0.1424",
         "-0.079891",
         "-0.12759",
         "-0.057818",
         "0.037925",
         "0.10632",
         "-0.00030421",
         "-0.020594",
         "0.012166",
         "0.030756",
         "-0.082842",
         "0.028944",
         "-0.0031888",
         "-0.035161",
         "-0.057965",
         "0.024281",
         "0.11234",
         "0.14603",
         "0.15011",
         "0.13169",
         "0.056684",
         "0.10024",
         "0.21022",
         "0.24603",
         "0.23116",
         "0.2737",
         "0.37793",
         "0.32436",
         "0.28848",
         "0.38684",
         "0.43705",
         "0.45",
         "0.42145",
         "0.51368",
         "0.55504",
         "0.58427",
         "0.47524",
         "0.38943",
         "0.38913",
         "0.4485",
         "0.52328",
         "0.48341",
         "0.3928",
         "0.45995",
         "0.38865",
         "0.45335",
         "0.53852",
         "0.47532",
         "0.50801",
         "0.60386",
         "0.76803",
         "0.96152",
         "1.0338",
         "1.2349",
         "1.4614",
         "1.7458",
         "2.008",
         "2.0043",
         "1.9547",
         "1.8747",
         "1.6915",
         "1.4877",
         "1.3655",
         "1.1282",
         "0.97613",
         "0.71257",
         "0.4309",
         "0.21238",
         "0.16481",
         "0.15334",
         "0.11062",
         "0.13443",
         "0.12413",
         "0.092813",
         "0.12983",
         "0.18816",
         "0.13241",
         "0.15633",
         "0.19567",
         "0.23698",
         "0.28418",
         "0.25881",
         "0.3157",
         "0.65309",
         "1.3535",
         "1.7769",
         "1.5029",
         "1.1651",
         "0.46073",
         "0.019172",
         "-0.32739",
         "-0.48051",
         "-0.18814",
         "0.14284",
         "-0.66844"
        ]
       ],
       "shape": {
        "columns": 141,
        "rows": 5
       }
      },
      "text/html": [
       "<div>\n",
       "<style scoped>\n",
       "    .dataframe tbody tr th:only-of-type {\n",
       "        vertical-align: middle;\n",
       "    }\n",
       "\n",
       "    .dataframe tbody tr th {\n",
       "        vertical-align: top;\n",
       "    }\n",
       "\n",
       "    .dataframe thead th {\n",
       "        text-align: right;\n",
       "    }\n",
       "</style>\n",
       "<table border=\"1\" class=\"dataframe\">\n",
       "  <thead>\n",
       "    <tr style=\"text-align: right;\">\n",
       "      <th></th>\n",
       "      <th>0</th>\n",
       "      <th>1</th>\n",
       "      <th>2</th>\n",
       "      <th>3</th>\n",
       "      <th>4</th>\n",
       "      <th>5</th>\n",
       "      <th>6</th>\n",
       "      <th>7</th>\n",
       "      <th>8</th>\n",
       "      <th>9</th>\n",
       "      <th>...</th>\n",
       "      <th>131</th>\n",
       "      <th>132</th>\n",
       "      <th>133</th>\n",
       "      <th>134</th>\n",
       "      <th>135</th>\n",
       "      <th>136</th>\n",
       "      <th>137</th>\n",
       "      <th>138</th>\n",
       "      <th>139</th>\n",
       "      <th>140</th>\n",
       "    </tr>\n",
       "  </thead>\n",
       "  <tbody>\n",
       "    <tr>\n",
       "      <th>0</th>\n",
       "      <td>1</td>\n",
       "      <td>-1.30300</td>\n",
       "      <td>-0.83573</td>\n",
       "      <td>-1.9336</td>\n",
       "      <td>-2.09420</td>\n",
       "      <td>-2.02840</td>\n",
       "      <td>-1.2531</td>\n",
       "      <td>-0.52638</td>\n",
       "      <td>-0.089286</td>\n",
       "      <td>-0.07557</td>\n",
       "      <td>...</td>\n",
       "      <td>-1.45820</td>\n",
       "      <td>-1.6676</td>\n",
       "      <td>-1.5977</td>\n",
       "      <td>-1.67930</td>\n",
       "      <td>-1.677200</td>\n",
       "      <td>-1.69370</td>\n",
       "      <td>-1.79410</td>\n",
       "      <td>-1.35940</td>\n",
       "      <td>-2.08120</td>\n",
       "      <td>-2.82880</td>\n",
       "    </tr>\n",
       "    <tr>\n",
       "      <th>1</th>\n",
       "      <td>2</td>\n",
       "      <td>0.32288</td>\n",
       "      <td>-0.87847</td>\n",
       "      <td>-1.8023</td>\n",
       "      <td>-2.66850</td>\n",
       "      <td>-3.26550</td>\n",
       "      <td>-3.3326</td>\n",
       "      <td>-2.88000</td>\n",
       "      <td>-2.227400</td>\n",
       "      <td>-1.54360</td>\n",
       "      <td>...</td>\n",
       "      <td>-1.23050</td>\n",
       "      <td>-1.7218</td>\n",
       "      <td>-2.1953</td>\n",
       "      <td>-2.74890</td>\n",
       "      <td>-3.446500</td>\n",
       "      <td>-3.66210</td>\n",
       "      <td>-3.01820</td>\n",
       "      <td>-1.65140</td>\n",
       "      <td>-0.23670</td>\n",
       "      <td>0.82832</td>\n",
       "    </tr>\n",
       "    <tr>\n",
       "      <th>2</th>\n",
       "      <td>2</td>\n",
       "      <td>1.39340</td>\n",
       "      <td>1.59260</td>\n",
       "      <td>1.2420</td>\n",
       "      <td>0.79449</td>\n",
       "      <td>0.19577</td>\n",
       "      <td>-0.3156</td>\n",
       "      <td>-0.58053</td>\n",
       "      <td>-0.945020</td>\n",
       "      <td>-1.23350</td>\n",
       "      <td>...</td>\n",
       "      <td>-1.90850</td>\n",
       "      <td>-2.5295</td>\n",
       "      <td>-3.0614</td>\n",
       "      <td>-3.50370</td>\n",
       "      <td>-3.900400</td>\n",
       "      <td>-4.24600</td>\n",
       "      <td>-4.13380</td>\n",
       "      <td>-3.19850</td>\n",
       "      <td>-2.42200</td>\n",
       "      <td>-1.07370</td>\n",
       "    </tr>\n",
       "    <tr>\n",
       "      <th>3</th>\n",
       "      <td>1</td>\n",
       "      <td>-3.52270</td>\n",
       "      <td>-5.02610</td>\n",
       "      <td>-4.3613</td>\n",
       "      <td>-4.10570</td>\n",
       "      <td>-3.10420</td>\n",
       "      <td>-1.8178</td>\n",
       "      <td>-1.39840</td>\n",
       "      <td>-1.070100</td>\n",
       "      <td>-0.40691</td>\n",
       "      <td>...</td>\n",
       "      <td>0.83038</td>\n",
       "      <td>1.0084</td>\n",
       "      <td>1.1830</td>\n",
       "      <td>0.94636</td>\n",
       "      <td>0.952130</td>\n",
       "      <td>0.79343</td>\n",
       "      <td>0.84741</td>\n",
       "      <td>1.01390</td>\n",
       "      <td>0.31234</td>\n",
       "      <td>-2.19060</td>\n",
       "    </tr>\n",
       "    <tr>\n",
       "      <th>4</th>\n",
       "      <td>1</td>\n",
       "      <td>-1.91820</td>\n",
       "      <td>-3.22510</td>\n",
       "      <td>-3.4652</td>\n",
       "      <td>-4.00800</td>\n",
       "      <td>-3.87030</td>\n",
       "      <td>-3.3581</td>\n",
       "      <td>-2.28540</td>\n",
       "      <td>-1.728500</td>\n",
       "      <td>-1.42220</td>\n",
       "      <td>...</td>\n",
       "      <td>1.77690</td>\n",
       "      <td>1.5029</td>\n",
       "      <td>1.1651</td>\n",
       "      <td>0.46073</td>\n",
       "      <td>0.019172</td>\n",
       "      <td>-0.32739</td>\n",
       "      <td>-0.48051</td>\n",
       "      <td>-0.18814</td>\n",
       "      <td>0.14284</td>\n",
       "      <td>-0.66844</td>\n",
       "    </tr>\n",
       "  </tbody>\n",
       "</table>\n",
       "<p>5 rows × 141 columns</p>\n",
       "</div>"
      ],
      "text/plain": [
       "   0        1        2       3        4        5       6        7         8  \\\n",
       "0  1 -1.30300 -0.83573 -1.9336 -2.09420 -2.02840 -1.2531 -0.52638 -0.089286   \n",
       "1  2  0.32288 -0.87847 -1.8023 -2.66850 -3.26550 -3.3326 -2.88000 -2.227400   \n",
       "2  2  1.39340  1.59260  1.2420  0.79449  0.19577 -0.3156 -0.58053 -0.945020   \n",
       "3  1 -3.52270 -5.02610 -4.3613 -4.10570 -3.10420 -1.8178 -1.39840 -1.070100   \n",
       "4  1 -1.91820 -3.22510 -3.4652 -4.00800 -3.87030 -3.3581 -2.28540 -1.728500   \n",
       "\n",
       "         9  ...      131     132     133      134       135      136      137  \\\n",
       "0 -0.07557  ... -1.45820 -1.6676 -1.5977 -1.67930 -1.677200 -1.69370 -1.79410   \n",
       "1 -1.54360  ... -1.23050 -1.7218 -2.1953 -2.74890 -3.446500 -3.66210 -3.01820   \n",
       "2 -1.23350  ... -1.90850 -2.5295 -3.0614 -3.50370 -3.900400 -4.24600 -4.13380   \n",
       "3 -0.40691  ...  0.83038  1.0084  1.1830  0.94636  0.952130  0.79343  0.84741   \n",
       "4 -1.42220  ...  1.77690  1.5029  1.1651  0.46073  0.019172 -0.32739 -0.48051   \n",
       "\n",
       "       138      139      140  \n",
       "0 -1.35940 -2.08120 -2.82880  \n",
       "1 -1.65140 -0.23670  0.82832  \n",
       "2 -3.19850 -2.42200 -1.07370  \n",
       "3  1.01390  0.31234 -2.19060  \n",
       "4 -0.18814  0.14284 -0.66844  \n",
       "\n",
       "[5 rows x 141 columns]"
      ]
     },
     "execution_count": 4,
     "metadata": {},
     "output_type": "execute_result"
    }
   ],
   "source": [
    "df_train.head()"
   ]
  },
  {
   "cell_type": "code",
   "execution_count": null,
   "metadata": {
    "colab": {
     "base_uri": "https://localhost:8080/"
    },
    "executionInfo": {
     "elapsed": 169,
     "status": "ok",
     "timestamp": 1624650168690,
     "user": {
      "displayName": "Miguel Sotaquirá",
      "photoUrl": "https://lh3.googleusercontent.com/a-/AOh14Giuk6OGsE84qo69ZTgJj4B328D6GfU4etVY0q9AUg=s64",
      "userId": "08038952820764930757"
     },
     "user_tz": 300
    },
    "id": "J_zD29g-vUG4",
    "outputId": "d82494d3-9001-456c-abc6-b51edd68d01c"
   },
   "outputs": [],
   "source": []
  },
  {
   "cell_type": "markdown",
   "metadata": {},
   "source": [
    "# Tu turno: como lo resolverías?\n"
   ]
  },
  {
   "cell_type": "code",
   "execution_count": 18,
   "metadata": {},
   "outputs": [
    {
     "data": {
      "text/plain": [
       "705"
      ]
     },
     "execution_count": 18,
     "metadata": {},
     "output_type": "execute_result"
    }
   ],
   "source": [
    "140 * 5 + 5"
   ]
  },
  {
   "cell_type": "code",
   "execution_count": null,
   "metadata": {},
   "outputs": [
    {
     "name": "stdout",
     "output_type": "stream",
     "text": [
      "Epoch 1/300\n"
     ]
    },
    {
     "name": "stdout",
     "output_type": "stream",
     "text": [
      "\u001b[1m206/238\u001b[0m \u001b[32m━━━━━━━━━━━━━━━━━\u001b[0m\u001b[37m━━━\u001b[0m \u001b[1m0s\u001b[0m 736us/step - accuracy: 0.7978 - loss: 0.5501\n",
      "Epoch 1: val_loss improved from inf to 0.18326, saving model to model.keras\n",
      "\u001b[1m238/238\u001b[0m \u001b[32m━━━━━━━━━━━━━━━━━━━━\u001b[0m\u001b[37m\u001b[0m \u001b[1m1s\u001b[0m 2ms/step - accuracy: 0.8124 - loss: 0.5159 - val_accuracy: 0.9426 - val_loss: 0.1833\n",
      "Epoch 2/300\n",
      "\u001b[1m212/238\u001b[0m \u001b[32m━━━━━━━━━━━━━━━━━\u001b[0m\u001b[37m━━━\u001b[0m \u001b[1m0s\u001b[0m 714us/step - accuracy: 0.9422 - loss: 0.1821\n",
      "Epoch 2: val_loss improved from 0.18326 to 0.16178, saving model to model.keras\n",
      "\u001b[1m238/238\u001b[0m \u001b[32m━━━━━━━━━━━━━━━━━━━━\u001b[0m\u001b[37m\u001b[0m \u001b[1m0s\u001b[0m 1ms/step - accuracy: 0.9423 - loss: 0.1820 - val_accuracy: 0.9521 - val_loss: 0.1618\n",
      "Epoch 3/300\n",
      "\u001b[1m214/238\u001b[0m \u001b[32m━━━━━━━━━━━━━━━━━\u001b[0m\u001b[37m━━━\u001b[0m \u001b[1m0s\u001b[0m 708us/step - accuracy: 0.9503 - loss: 0.1598\n",
      "Epoch 3: val_loss improved from 0.16178 to 0.14996, saving model to model.keras\n",
      "\u001b[1m238/238\u001b[0m \u001b[32m━━━━━━━━━━━━━━━━━━━━\u001b[0m\u001b[37m\u001b[0m \u001b[1m0s\u001b[0m 1ms/step - accuracy: 0.9504 - loss: 0.1601 - val_accuracy: 0.9542 - val_loss: 0.1500\n",
      "Epoch 4/300\n",
      "\u001b[1m217/238\u001b[0m \u001b[32m━━━━━━━━━━━━━━━━━━\u001b[0m\u001b[37m━━\u001b[0m \u001b[1m0s\u001b[0m 699us/step - accuracy: 0.9515 - loss: 0.1653\n",
      "Epoch 4: val_loss improved from 0.14996 to 0.14765, saving model to model.keras\n",
      "\u001b[1m238/238\u001b[0m \u001b[32m━━━━━━━━━━━━━━━━━━━━\u001b[0m\u001b[37m\u001b[0m \u001b[1m0s\u001b[0m 992us/step - accuracy: 0.9518 - loss: 0.1641 - val_accuracy: 0.9584 - val_loss: 0.1477\n",
      "Epoch 5/300\n",
      "\u001b[1m214/238\u001b[0m \u001b[32m━━━━━━━━━━━━━━━━━\u001b[0m\u001b[37m━━━\u001b[0m \u001b[1m0s\u001b[0m 709us/step - accuracy: 0.9555 - loss: 0.1453\n",
      "Epoch 5: val_loss improved from 0.14765 to 0.13958, saving model to model.keras\n",
      "\u001b[1m238/238\u001b[0m \u001b[32m━━━━━━━━━━━━━━━━━━━━\u001b[0m\u001b[37m\u001b[0m \u001b[1m0s\u001b[0m 1ms/step - accuracy: 0.9554 - loss: 0.1454 - val_accuracy: 0.9600 - val_loss: 0.1396\n",
      "Epoch 6/300\n",
      "\u001b[1m211/238\u001b[0m \u001b[32m━━━━━━━━━━━━━━━━━\u001b[0m\u001b[37m━━━\u001b[0m \u001b[1m0s\u001b[0m 720us/step - accuracy: 0.9581 - loss: 0.1447\n",
      "Epoch 6: val_loss did not improve from 0.13958\n",
      "\u001b[1m238/238\u001b[0m \u001b[32m━━━━━━━━━━━━━━━━━━━━\u001b[0m\u001b[37m\u001b[0m \u001b[1m0s\u001b[0m 981us/step - accuracy: 0.9581 - loss: 0.1443 - val_accuracy: 0.9611 - val_loss: 0.1404\n",
      "Epoch 7/300\n",
      "\u001b[1m211/238\u001b[0m \u001b[32m━━━━━━━━━━━━━━━━━\u001b[0m\u001b[37m━━━\u001b[0m \u001b[1m0s\u001b[0m 719us/step - accuracy: 0.9642 - loss: 0.1256\n",
      "Epoch 7: val_loss did not improve from 0.13958\n",
      "\u001b[1m238/238\u001b[0m \u001b[32m━━━━━━━━━━━━━━━━━━━━\u001b[0m\u001b[37m\u001b[0m \u001b[1m0s\u001b[0m 977us/step - accuracy: 0.9635 - loss: 0.1266 - val_accuracy: 0.9632 - val_loss: 0.1415\n",
      "Epoch 8/300\n",
      "\u001b[1m202/238\u001b[0m \u001b[32m━━━━━━━━━━━━━━━━\u001b[0m\u001b[37m━━━━\u001b[0m \u001b[1m0s\u001b[0m 751us/step - accuracy: 0.9605 - loss: 0.1320\n",
      "Epoch 8: val_loss improved from 0.13958 to 0.13429, saving model to model.keras\n",
      "\u001b[1m238/238\u001b[0m \u001b[32m━━━━━━━━━━━━━━━━━━━━\u001b[0m\u001b[37m\u001b[0m \u001b[1m0s\u001b[0m 1ms/step - accuracy: 0.9604 - loss: 0.1320 - val_accuracy: 0.9637 - val_loss: 0.1343\n",
      "Epoch 9/300\n",
      "\u001b[1m217/238\u001b[0m \u001b[32m━━━━━━━━━━━━━━━━━━\u001b[0m\u001b[37m━━\u001b[0m \u001b[1m0s\u001b[0m 700us/step - accuracy: 0.9585 - loss: 0.1273\n",
      "Epoch 9: val_loss improved from 0.13429 to 0.13368, saving model to model.keras\n",
      "\u001b[1m238/238\u001b[0m \u001b[32m━━━━━━━━━━━━━━━━━━━━\u001b[0m\u001b[37m\u001b[0m \u001b[1m0s\u001b[0m 1ms/step - accuracy: 0.9586 - loss: 0.1273 - val_accuracy: 0.9647 - val_loss: 0.1337\n",
      "Epoch 10/300\n",
      "\u001b[1m212/238\u001b[0m \u001b[32m━━━━━━━━━━━━━━━━━\u001b[0m\u001b[37m━━━\u001b[0m \u001b[1m0s\u001b[0m 715us/step - accuracy: 0.9636 - loss: 0.1245\n",
      "Epoch 10: val_loss did not improve from 0.13368\n",
      "\u001b[1m238/238\u001b[0m \u001b[32m━━━━━━━━━━━━━━━━━━━━\u001b[0m\u001b[37m\u001b[0m \u001b[1m0s\u001b[0m 979us/step - accuracy: 0.9632 - loss: 0.1248 - val_accuracy: 0.9642 - val_loss: 0.1356\n",
      "Epoch 11/300\n",
      "\u001b[1m200/238\u001b[0m \u001b[32m━━━━━━━━━━━━━━━━\u001b[0m\u001b[37m━━━━\u001b[0m \u001b[1m0s\u001b[0m 760us/step - accuracy: 0.9605 - loss: 0.1283\n",
      "Epoch 11: val_loss improved from 0.13368 to 0.13361, saving model to model.keras\n",
      "\u001b[1m238/238\u001b[0m \u001b[32m━━━━━━━━━━━━━━━━━━━━\u001b[0m\u001b[37m\u001b[0m \u001b[1m0s\u001b[0m 1ms/step - accuracy: 0.9608 - loss: 0.1275 - val_accuracy: 0.9642 - val_loss: 0.1336\n",
      "Epoch 12/300\n",
      "\u001b[1m208/238\u001b[0m \u001b[32m━━━━━━━━━━━━━━━━━\u001b[0m\u001b[37m━━━\u001b[0m \u001b[1m0s\u001b[0m 729us/step - accuracy: 0.9588 - loss: 0.1255\n",
      "Epoch 12: val_loss improved from 0.13361 to 0.13240, saving model to model.keras\n",
      "\u001b[1m238/238\u001b[0m \u001b[32m━━━━━━━━━━━━━━━━━━━━\u001b[0m\u001b[37m\u001b[0m \u001b[1m0s\u001b[0m 1ms/step - accuracy: 0.9592 - loss: 0.1252 - val_accuracy: 0.9642 - val_loss: 0.1324\n",
      "Epoch 13/300\n",
      "\u001b[1m213/238\u001b[0m \u001b[32m━━━━━━━━━━━━━━━━━\u001b[0m\u001b[37m━━━\u001b[0m \u001b[1m0s\u001b[0m 714us/step - accuracy: 0.9646 - loss: 0.1124\n",
      "Epoch 13: val_loss did not improve from 0.13240\n",
      "\u001b[1m238/238\u001b[0m \u001b[32m━━━━━━━━━━━━━━━━━━━━\u001b[0m\u001b[37m\u001b[0m \u001b[1m0s\u001b[0m 969us/step - accuracy: 0.9645 - loss: 0.1132 - val_accuracy: 0.9637 - val_loss: 0.1335\n",
      "Epoch 14/300\n",
      "\u001b[1m197/238\u001b[0m \u001b[32m━━━━━━━━━━━━━━━━\u001b[0m\u001b[37m━━━━\u001b[0m \u001b[1m0s\u001b[0m 770us/step - accuracy: 0.9644 - loss: 0.1126\n",
      "Epoch 14: val_loss did not improve from 0.13240\n",
      "\u001b[1m238/238\u001b[0m \u001b[32m━━━━━━━━━━━━━━━━━━━━\u001b[0m\u001b[37m\u001b[0m \u001b[1m0s\u001b[0m 1ms/step - accuracy: 0.9644 - loss: 0.1134 - val_accuracy: 0.9642 - val_loss: 0.1381\n",
      "Epoch 15/300\n",
      "\u001b[1m218/238\u001b[0m \u001b[32m━━━━━━━━━━━━━━━━━━\u001b[0m\u001b[37m━━\u001b[0m \u001b[1m0s\u001b[0m 697us/step - accuracy: 0.9628 - loss: 0.1169\n",
      "Epoch 15: val_loss did not improve from 0.13240\n",
      "\u001b[1m238/238\u001b[0m \u001b[32m━━━━━━━━━━━━━━━━━━━━\u001b[0m\u001b[37m\u001b[0m \u001b[1m0s\u001b[0m 943us/step - accuracy: 0.9629 - loss: 0.1169 - val_accuracy: 0.9642 - val_loss: 0.1328\n",
      "Epoch 16/300\n",
      "\u001b[1m208/238\u001b[0m \u001b[32m━━━━━━━━━━━━━━━━━\u001b[0m\u001b[37m━━━\u001b[0m \u001b[1m0s\u001b[0m 728us/step - accuracy: 0.9625 - loss: 0.1186\n",
      "Epoch 16: val_loss did not improve from 0.13240\n",
      "\u001b[1m238/238\u001b[0m \u001b[32m━━━━━━━━━━━━━━━━━━━━\u001b[0m\u001b[37m\u001b[0m \u001b[1m0s\u001b[0m 1ms/step - accuracy: 0.9627 - loss: 0.1178 - val_accuracy: 0.9616 - val_loss: 0.1358\n",
      "Epoch 17/300\n",
      "\u001b[1m219/238\u001b[0m \u001b[32m━━━━━━━━━━━━━━━━━━\u001b[0m\u001b[37m━━\u001b[0m \u001b[1m0s\u001b[0m 693us/step - accuracy: 0.9632 - loss: 0.1168\n",
      "Epoch 17: val_loss improved from 0.13240 to 0.13085, saving model to model.keras\n",
      "\u001b[1m238/238\u001b[0m \u001b[32m━━━━━━━━━━━━━━━━━━━━\u001b[0m\u001b[37m\u001b[0m \u001b[1m0s\u001b[0m 985us/step - accuracy: 0.9633 - loss: 0.1164 - val_accuracy: 0.9653 - val_loss: 0.1309\n",
      "Epoch 18/300\n",
      "\u001b[1m218/238\u001b[0m \u001b[32m━━━━━━━━━━━━━━━━━━\u001b[0m\u001b[37m━━\u001b[0m \u001b[1m0s\u001b[0m 698us/step - accuracy: 0.9675 - loss: 0.1087\n",
      "Epoch 18: val_loss did not improve from 0.13085\n",
      "\u001b[1m238/238\u001b[0m \u001b[32m━━━━━━━━━━━━━━━━━━━━\u001b[0m\u001b[37m\u001b[0m \u001b[1m0s\u001b[0m 952us/step - accuracy: 0.9674 - loss: 0.1088 - val_accuracy: 0.9674 - val_loss: 0.1329\n",
      "Epoch 19/300\n",
      "\u001b[1m214/238\u001b[0m \u001b[32m━━━━━━━━━━━━━━━━━\u001b[0m\u001b[37m━━━\u001b[0m \u001b[1m0s\u001b[0m 708us/step - accuracy: 0.9678 - loss: 0.1043\n",
      "Epoch 19: val_loss did not improve from 0.13085\n",
      "\u001b[1m238/238\u001b[0m \u001b[32m━━━━━━━━━━━━━━━━━━━━\u001b[0m\u001b[37m\u001b[0m \u001b[1m0s\u001b[0m 962us/step - accuracy: 0.9676 - loss: 0.1050 - val_accuracy: 0.9642 - val_loss: 0.1361\n",
      "Epoch 20/300\n",
      "\u001b[1m215/238\u001b[0m \u001b[32m━━━━━━━━━━━━━━━━━━\u001b[0m\u001b[37m━━\u001b[0m \u001b[1m0s\u001b[0m 705us/step - accuracy: 0.9684 - loss: 0.1039\n",
      "Epoch 20: val_loss did not improve from 0.13085\n",
      "\u001b[1m238/238\u001b[0m \u001b[32m━━━━━━━━━━━━━━━━━━━━\u001b[0m\u001b[37m\u001b[0m \u001b[1m0s\u001b[0m 952us/step - accuracy: 0.9683 - loss: 0.1042 - val_accuracy: 0.9663 - val_loss: 0.1332\n",
      "Epoch 21/300\n",
      "\u001b[1m215/238\u001b[0m \u001b[32m━━━━━━━━━━━━━━━━━━\u001b[0m\u001b[37m━━\u001b[0m \u001b[1m0s\u001b[0m 707us/step - accuracy: 0.9718 - loss: 0.1019\n",
      "Epoch 21: val_loss did not improve from 0.13085\n",
      "\u001b[1m238/238\u001b[0m \u001b[32m━━━━━━━━━━━━━━━━━━━━\u001b[0m\u001b[37m\u001b[0m \u001b[1m0s\u001b[0m 961us/step - accuracy: 0.9715 - loss: 0.1023 - val_accuracy: 0.9668 - val_loss: 0.1427\n",
      "Epoch 22/300\n",
      "\u001b[1m219/238\u001b[0m \u001b[32m━━━━━━━━━━━━━━━━━━\u001b[0m\u001b[37m━━\u001b[0m \u001b[1m0s\u001b[0m 696us/step - accuracy: 0.9687 - loss: 0.1029\n",
      "Epoch 22: val_loss did not improve from 0.13085\n",
      "\u001b[1m238/238\u001b[0m \u001b[32m━━━━━━━━━━━━━━━━━━━━\u001b[0m\u001b[37m\u001b[0m \u001b[1m0s\u001b[0m 947us/step - accuracy: 0.9687 - loss: 0.1031 - val_accuracy: 0.9637 - val_loss: 0.1408\n",
      "Epoch 22: early stopping\n",
      "\u001b[1m238/238\u001b[0m \u001b[32m━━━━━━━━━━━━━━━━━━━━\u001b[0m\u001b[37m\u001b[0m \u001b[1m0s\u001b[0m 779us/step\n"
     ]
    },
    {
     "data": {
      "text/plain": [
       "array([0, 1])"
      ]
     },
     "execution_count": 7,
     "metadata": {},
     "output_type": "execute_result"
    }
   ],
   "source": []
  },
  {
   "cell_type": "markdown",
   "metadata": {},
   "source": []
  },
  {
   "cell_type": "code",
   "execution_count": null,
   "metadata": {},
   "outputs": [
    {
     "name": "stdout",
     "output_type": "stream",
     "text": [
      "0.966842105263158\n"
     ]
    }
   ],
   "source": []
  },
  {
   "cell_type": "code",
   "execution_count": 9,
   "metadata": {},
   "outputs": [
    {
     "data": {
      "image/png": "[encoded data removed]",
      "text/plain": [
       "<Figure size 640x480 with 1 Axes>"
      ]
     },
     "metadata": {},
     "output_type": "display_data"
    },
    {
     "data": {
      "text/plain": [
       "<matplotlib.legend.Legend at 0x7f702c3160f0>"
      ]
     },
     "execution_count": 9,
     "metadata": {},
     "output_type": "execute_result"
    },
    {
     "data": {
      "image/png": "[encoded data removed]",
      "text/plain": [
       "<Figure size 640x480 with 1 Axes>"
      ]
     },
     "metadata": {},
     "output_type": "display_data"
    }
   ],
   "source": [
    "# plot history train, test epochs\n",
    "plt.plot(history.history[\"accuracy\"])\n",
    "plt.plot(history.history[\"val_accuracy\"])\n",
    "plt.title(\"model accuracy\")\n",
    "plt.ylabel(\"accuracy\")\n",
    "plt.xlabel(\"epoch\")\n",
    "plt.show()\n",
    "# plot loss\n",
    "plt.plot(history.history[\"loss\"])\n",
    "plt.plot(history.history[\"val_loss\"])\n",
    "plt.title(\"model loss\")\n",
    "plt.ylabel(\"loss\")\n",
    "plt.xlabel(\"epoch\")\n",
    "plt.legend((\"loss\", \"val_loss\"))"
   ]
  },
  {
   "cell_type": "code",
   "execution_count": 63,
   "metadata": {},
   "outputs": [
    {
     "name": "stdout",
     "output_type": "stream",
     "text": [
      "\u001b[1m1/1\u001b[0m \u001b[32m━━━━━━━━━━━━━━━━━━━━\u001b[0m\u001b[37m\u001b[0m \u001b[1m0s\u001b[0m 25ms/step\n"
     ]
    },
    {
     "data": {
      "text/plain": [
       "array([1, 1, 1, 1, 0])"
      ]
     },
     "execution_count": 63,
     "metadata": {},
     "output_type": "execute_result"
    }
   ],
   "source": [
    "np.argmax(model.predict(x_test[:5]), axis=1)"
   ]
  },
  {
   "cell_type": "code",
   "execution_count": null,
   "metadata": {},
   "outputs": [],
   "source": []
  },
  {
   "cell_type": "code",
   "execution_count": null,
   "metadata": {},
   "outputs": [],
   "source": []
  },
  {
   "cell_type": "code",
   "execution_count": null,
   "metadata": {},
   "outputs": [],
   "source": []
  },
  {
   "cell_type": "code",
   "execution_count": null,
   "metadata": {},
   "outputs": [],
   "source": []
  },
  {
   "cell_type": "markdown",
   "metadata": {
    "id": "-bKvf6mGzsXO"
   },
   "source": [
    "# Autoencoders\n"
   ]
  },
  {
   "cell_type": "markdown",
   "metadata": {},
   "source": [
    "### 4.2. Sets de entrenamiento y validación\n"
   ]
  },
  {
   "cell_type": "code",
   "execution_count": 64,
   "metadata": {
    "executionInfo": {
     "elapsed": 180,
     "status": "ok",
     "timestamp": 1624650272606,
     "user": {
      "displayName": "Miguel Sotaquirá",
      "photoUrl": "https://lh3.googleusercontent.com/a-/AOh14Giuk6OGsE84qo69ZTgJj4B328D6GfU4etVY0q9AUg=s64",
      "userId": "08038952820764930757"
     },
     "user_tz": 300
    },
    "id": "WrLASQllwOC7"
   },
   "outputs": [],
   "source": [
    "# Pandas a arreglos numpy\n",
    "datos_train = df_train.values\n",
    "datos_test = df_test.values\n",
    "\n",
    "# Etiquetas\n",
    "cat_train = datos_train[:, 0]\n",
    "cat_test = datos_test[:, 0]\n",
    "\n",
    "# Subdivisión por categorías\n",
    "x_train_1 = datos_train[cat_train == 1, 1:]\n",
    "x_train_2 = datos_train[cat_train == 2, 1:]\n",
    "x_train_3 = datos_train[cat_train == 3, 1:]\n",
    "x_train_4 = datos_train[cat_train == 4, 1:]\n",
    "x_train_5 = datos_train[cat_train == 5, 1:]\n",
    "\n",
    "x_test_1 = datos_test[cat_test == 1, 1:]\n",
    "x_test_2 = datos_test[cat_test == 2, 1:]\n",
    "x_test_3 = datos_test[cat_test == 3, 1:]\n",
    "x_test_4 = datos_test[cat_test == 4, 1:]\n",
    "x_test_5 = datos_test[cat_test == 5, 1:]"
   ]
  },
  {
   "cell_type": "code",
   "execution_count": 65,
   "metadata": {
    "colab": {
     "base_uri": "https://localhost:8080/",
     "height": 501
    },
    "executionInfo": {
     "elapsed": 904,
     "status": "ok",
     "timestamp": 1624650336391,
     "user": {
      "displayName": "Miguel Sotaquirá",
      "photoUrl": "https://lh3.googleusercontent.com/a-/AOh14Giuk6OGsE84qo69ZTgJj4B328D6GfU4etVY0q9AUg=s64",
      "userId": "08038952820764930757"
     },
     "user_tz": 300
    },
    "id": "Uj8CcBDzdyz-",
    "outputId": "cf1616c5-92ef-4a98-f9bc-bc95b9b2af5d"
   },
   "outputs": [
    {
     "data": {
      "image/png": "[encoded data removed]",
      "text/plain": [
       "<Figure size 1000x800 with 4 Axes>"
      ]
     },
     "metadata": {},
     "output_type": "display_data"
    }
   ],
   "source": [
    "# Dibujar un dato normal y uno de cada anormal\n",
    "\n",
    "ind = 22\n",
    "normal = x_train_1[ind]\n",
    "anormal_2 = x_train_2[ind]\n",
    "anormal_3 = x_train_3[ind]\n",
    "anormal_4 = x_train_4[ind]\n",
    "anormal_5 = x_train_5[ind]\n",
    "\n",
    "plt.figure(figsize=(10, 8))\n",
    "# plt.grid()\n",
    "plt.subplot(2, 2, 1)\n",
    "plt.plot(np.arange(140), normal)\n",
    "plt.plot(np.arange(140), anormal_2, \"r--\")\n",
    "plt.subplot(2, 2, 2)\n",
    "plt.plot(np.arange(140), normal)\n",
    "plt.plot(np.arange(140), anormal_3, \"r--\")\n",
    "plt.subplot(2, 2, 3)\n",
    "plt.plot(np.arange(140), normal)\n",
    "plt.plot(np.arange(140), anormal_4, \"r--\")\n",
    "plt.subplot(2, 2, 4)\n",
    "plt.plot(np.arange(140), normal)\n",
    "plt.plot(np.arange(140), anormal_5, \"r--\")\n",
    "plt.show()"
   ]
  },
  {
   "cell_type": "markdown",
   "metadata": {
    "id": "p5XL9eA02OPU"
   },
   "source": [
    "### 4.3. Preprocesamiento (normalización)\n"
   ]
  },
  {
   "cell_type": "code",
   "execution_count": 67,
   "metadata": {
    "colab": {
     "base_uri": "https://localhost:8080/"
    },
    "executionInfo": {
     "elapsed": 732,
     "status": "ok",
     "timestamp": 1624650536256,
     "user": {
      "displayName": "Miguel Sotaquirá",
      "photoUrl": "https://lh3.googleusercontent.com/a-/AOh14Giuk6OGsE84qo69ZTgJj4B328D6GfU4etVY0q9AUg=s64",
      "userId": "08038952820764930757"
     },
     "user_tz": 300
    },
    "id": "8OgaJsDMhulv",
    "outputId": "f93172a0-1a47-49b6-fa86-c9977f8b323d"
   },
   "outputs": [
    {
     "name": "stdout",
     "output_type": "stream",
     "text": [
      "Mínimo y máximo originales: -7.1, 5.0\n",
      "Mínimo y máximo normalización: 0.0, 1.0\n"
     ]
    }
   ],
   "source": [
    "from sklearn.preprocessing import MinMaxScaler\n",
    "\n",
    "min_max_scaler = MinMaxScaler()\n",
    "\n",
    "min_max_scaler.fit(x_train_1)\n",
    "\n",
    "# Entrenar el escalador con los datos de x_train_1\n",
    "x_train_1_s = min_max_scaler.transform(x_train_1)\n",
    "print('Mínimo y máximo originales: {:.1f}, {:.1f}'.format(np.min(x_train_1), np.max(x_train_1)))\n",
    "print('Mínimo y máximo normalización: {:.1f}, {:.1f}'.format(np.min(x_train_1_s), np.max(x_train_1_s)))\n",
    "\n",
    "# Escalar los datos de x_test_1, x_test_2, x_test_3, x_test_4, x_test_5\n",
    "x_test_1_s = min_max_scaler.transform(x_test_1)\n",
    "x_test_2_s = min_max_scaler.transform(x_test_2)\n",
    "x_test_3_s = min_max_scaler.transform(x_test_3)\n",
    "x_test_4_s = min_max_scaler.transform(x_test_4)\n",
    "x_test_5_s = min_max_scaler.transform(x_test_5)"
   ]
  },
  {
   "cell_type": "markdown",
   "metadata": {
    "id": "yDw2-VU823a7"
   },
   "source": [
    "### 4.4. Creación del Autoencoder en TensorFlow/Keras\n"
   ]
  },
  {
   "cell_type": "code",
   "execution_count": 73,
   "metadata": {
    "colab": {
     "base_uri": "https://localhost:8080/"
    },
    "executionInfo": {
     "elapsed": 6657,
     "status": "ok",
     "timestamp": 1624650966628,
     "user": {
      "displayName": "Miguel Sotaquirá",
      "photoUrl": "https://lh3.googleusercontent.com/a-/AOh14Giuk6OGsE84qo69ZTgJj4B328D6GfU4etVY0q9AUg=s64",
      "userId": "08038952820764930757"
     },
     "user_tz": 300
    },
    "id": "LJOhS1AEfF9m",
    "outputId": "b1e1653d-1a5e-4bc6-bd2f-4a1d8d519555"
   },
   "outputs": [
    {
     "data": {
      "text/html": [
       "<pre style=\"white-space:pre;overflow-x:auto;line-height:normal;font-family:Menlo,'DejaVu Sans Mono',consolas,'Courier New',monospace\"><span style=\"font-weight: bold\">Model: \"sequential_33\"</span>\n",
       "</pre>\n"
      ],
      "text/plain": [
       "\u001b[1mModel: \"sequential_33\"\u001b[0m\n"
      ]
     },
     "metadata": {},
     "output_type": "display_data"
    },
    {
     "data": {
      "text/html": [
       "<pre style=\"white-space:pre;overflow-x:auto;line-height:normal;font-family:Menlo,'DejaVu Sans Mono',consolas,'Courier New',monospace\">┏━━━━━━━━━━━━━━━━━━━━━━━━━━━━━━━━━┳━━━━━━━━━━━━━━━━━━━━━━━━┳━━━━━━━━━━━━━━━┓\n",
       "┃<span style=\"font-weight: bold\"> Layer (type)                    </span>┃<span style=\"font-weight: bold\"> Output Shape           </span>┃<span style=\"font-weight: bold\">       Param # </span>┃\n",
       "┡━━━━━━━━━━━━━━━━━━━━━━━━━━━━━━━━━╇━━━━━━━━━━━━━━━━━━━━━━━━╇━━━━━━━━━━━━━━━┩\n",
       "│ dense_63 (<span style=\"color: #0087ff; text-decoration-color: #0087ff\">Dense</span>)                │ (<span style=\"color: #00d7ff; text-decoration-color: #00d7ff\">None</span>, <span style=\"color: #00af00; text-decoration-color: #00af00\">32</span>)             │         <span style=\"color: #00af00; text-decoration-color: #00af00\">4,512</span> │\n",
       "├─────────────────────────────────┼────────────────────────┼───────────────┤\n",
       "│ dense_64 (<span style=\"color: #0087ff; text-decoration-color: #0087ff\">Dense</span>)                │ (<span style=\"color: #00d7ff; text-decoration-color: #00d7ff\">None</span>, <span style=\"color: #00af00; text-decoration-color: #00af00\">16</span>)             │           <span style=\"color: #00af00; text-decoration-color: #00af00\">528</span> │\n",
       "├─────────────────────────────────┼────────────────────────┼───────────────┤\n",
       "│ dense_65 (<span style=\"color: #0087ff; text-decoration-color: #0087ff\">Dense</span>)                │ (<span style=\"color: #00d7ff; text-decoration-color: #00d7ff\">None</span>, <span style=\"color: #00af00; text-decoration-color: #00af00\">8</span>)              │           <span style=\"color: #00af00; text-decoration-color: #00af00\">136</span> │\n",
       "├─────────────────────────────────┼────────────────────────┼───────────────┤\n",
       "│ dense_66 (<span style=\"color: #0087ff; text-decoration-color: #0087ff\">Dense</span>)                │ (<span style=\"color: #00d7ff; text-decoration-color: #00d7ff\">None</span>, <span style=\"color: #00af00; text-decoration-color: #00af00\">16</span>)             │           <span style=\"color: #00af00; text-decoration-color: #00af00\">144</span> │\n",
       "├─────────────────────────────────┼────────────────────────┼───────────────┤\n",
       "│ dense_67 (<span style=\"color: #0087ff; text-decoration-color: #0087ff\">Dense</span>)                │ (<span style=\"color: #00d7ff; text-decoration-color: #00d7ff\">None</span>, <span style=\"color: #00af00; text-decoration-color: #00af00\">32</span>)             │           <span style=\"color: #00af00; text-decoration-color: #00af00\">544</span> │\n",
       "├─────────────────────────────────┼────────────────────────┼───────────────┤\n",
       "│ dense_68 (<span style=\"color: #0087ff; text-decoration-color: #0087ff\">Dense</span>)                │ (<span style=\"color: #00d7ff; text-decoration-color: #00d7ff\">None</span>, <span style=\"color: #00af00; text-decoration-color: #00af00\">140</span>)            │         <span style=\"color: #00af00; text-decoration-color: #00af00\">4,620</span> │\n",
       "└─────────────────────────────────┴────────────────────────┴───────────────┘\n",
       "</pre>\n"
      ],
      "text/plain": [
       "┏━━━━━━━━━━━━━━━━━━━━━━━━━━━━━━━━━┳━━━━━━━━━━━━━━━━━━━━━━━━┳━━━━━━━━━━━━━━━┓\n",
       "┃\u001b[1m \u001b[0m\u001b[1mLayer (type)                   \u001b[0m\u001b[1m \u001b[0m┃\u001b[1m \u001b[0m\u001b[1mOutput Shape          \u001b[0m\u001b[1m \u001b[0m┃\u001b[1m \u001b[0m\u001b[1m      Param #\u001b[0m\u001b[1m \u001b[0m┃\n",
       "┡━━━━━━━━━━━━━━━━━━━━━━━━━━━━━━━━━╇━━━━━━━━━━━━━━━━━━━━━━━━╇━━━━━━━━━━━━━━━┩\n",
       "│ dense_63 (\u001b[38;5;33mDense\u001b[0m)                │ (\u001b[38;5;45mNone\u001b[0m, \u001b[38;5;34m32\u001b[0m)             │         \u001b[38;5;34m4,512\u001b[0m │\n",
       "├─────────────────────────────────┼────────────────────────┼───────────────┤\n",
       "│ dense_64 (\u001b[38;5;33mDense\u001b[0m)                │ (\u001b[38;5;45mNone\u001b[0m, \u001b[38;5;34m16\u001b[0m)             │           \u001b[38;5;34m528\u001b[0m │\n",
       "├─────────────────────────────────┼────────────────────────┼───────────────┤\n",
       "│ dense_65 (\u001b[38;5;33mDense\u001b[0m)                │ (\u001b[38;5;45mNone\u001b[0m, \u001b[38;5;34m8\u001b[0m)              │           \u001b[38;5;34m136\u001b[0m │\n",
       "├─────────────────────────────────┼────────────────────────┼───────────────┤\n",
       "│ dense_66 (\u001b[38;5;33mDense\u001b[0m)                │ (\u001b[38;5;45mNone\u001b[0m, \u001b[38;5;34m16\u001b[0m)             │           \u001b[38;5;34m144\u001b[0m │\n",
       "├─────────────────────────────────┼────────────────────────┼───────────────┤\n",
       "│ dense_67 (\u001b[38;5;33mDense\u001b[0m)                │ (\u001b[38;5;45mNone\u001b[0m, \u001b[38;5;34m32\u001b[0m)             │           \u001b[38;5;34m544\u001b[0m │\n",
       "├─────────────────────────────────┼────────────────────────┼───────────────┤\n",
       "│ dense_68 (\u001b[38;5;33mDense\u001b[0m)                │ (\u001b[38;5;45mNone\u001b[0m, \u001b[38;5;34m140\u001b[0m)            │         \u001b[38;5;34m4,620\u001b[0m │\n",
       "└─────────────────────────────────┴────────────────────────┴───────────────┘\n"
      ]
     },
     "metadata": {},
     "output_type": "display_data"
    },
    {
     "data": {
      "text/html": [
       "<pre style=\"white-space:pre;overflow-x:auto;line-height:normal;font-family:Menlo,'DejaVu Sans Mono',consolas,'Courier New',monospace\"><span style=\"font-weight: bold\"> Total params: </span><span style=\"color: #00af00; text-decoration-color: #00af00\">10,484</span> (40.95 KB)\n",
       "</pre>\n"
      ],
      "text/plain": [
       "\u001b[1m Total params: \u001b[0m\u001b[38;5;34m10,484\u001b[0m (40.95 KB)\n"
      ]
     },
     "metadata": {},
     "output_type": "display_data"
    },
    {
     "data": {
      "text/html": [
       "<pre style=\"white-space:pre;overflow-x:auto;line-height:normal;font-family:Menlo,'DejaVu Sans Mono',consolas,'Courier New',monospace\"><span style=\"font-weight: bold\"> Trainable params: </span><span style=\"color: #00af00; text-decoration-color: #00af00\">10,484</span> (40.95 KB)\n",
       "</pre>\n"
      ],
      "text/plain": [
       "\u001b[1m Trainable params: \u001b[0m\u001b[38;5;34m10,484\u001b[0m (40.95 KB)\n"
      ]
     },
     "metadata": {},
     "output_type": "display_data"
    },
    {
     "data": {
      "text/html": [
       "<pre style=\"white-space:pre;overflow-x:auto;line-height:normal;font-family:Menlo,'DejaVu Sans Mono',consolas,'Courier New',monospace\"><span style=\"font-weight: bold\"> Non-trainable params: </span><span style=\"color: #00af00; text-decoration-color: #00af00\">0</span> (0.00 B)\n",
       "</pre>\n"
      ],
      "text/plain": [
       "\u001b[1m Non-trainable params: \u001b[0m\u001b[38;5;34m0\u001b[0m (0.00 B)\n"
      ]
     },
     "metadata": {},
     "output_type": "display_data"
    },
    {
     "name": "stdout",
     "output_type": "stream",
     "text": [
      "Epoch 1/200\n",
      "\u001b[1m9/9\u001b[0m \u001b[32m━━━━━━━━━━━━━━━━━━━━\u001b[0m\u001b[37m\u001b[0m \u001b[1m3s\u001b[0m 36ms/step - loss: 0.2743 - val_loss: 0.2337\n",
      "Epoch 2/200\n",
      "\u001b[1m9/9\u001b[0m \u001b[32m━━━━━━━━━━━━━━━━━━━━\u001b[0m\u001b[37m\u001b[0m \u001b[1m0s\u001b[0m 9ms/step - loss: 0.2166 - val_loss: 0.1642\n",
      "Epoch 3/200\n",
      "\u001b[1m9/9\u001b[0m \u001b[32m━━━━━━━━━━━━━━━━━━━━\u001b[0m\u001b[37m\u001b[0m \u001b[1m0s\u001b[0m 9ms/step - loss: 0.1484 - val_loss: 0.1043\n",
      "Epoch 4/200\n",
      "\u001b[1m9/9\u001b[0m \u001b[32m━━━━━━━━━━━━━━━━━━━━\u001b[0m\u001b[37m\u001b[0m \u001b[1m0s\u001b[0m 8ms/step - loss: 0.0923 - val_loss: 0.0606\n",
      "Epoch 5/200\n",
      "\u001b[1m9/9\u001b[0m \u001b[32m━━━━━━━━━━━━━━━━━━━━\u001b[0m\u001b[37m\u001b[0m \u001b[1m0s\u001b[0m 10ms/step - loss: 0.0530 - val_loss: 0.0352\n",
      "Epoch 6/200\n",
      "\u001b[1m9/9\u001b[0m \u001b[32m━━━━━━━━━━━━━━━━━━━━\u001b[0m\u001b[37m\u001b[0m \u001b[1m0s\u001b[0m 8ms/step - loss: 0.0309 - val_loss: 0.0220\n",
      "Epoch 7/200\n",
      "\u001b[1m9/9\u001b[0m \u001b[32m━━━━━━━━━━━━━━━━━━━━\u001b[0m\u001b[37m\u001b[0m \u001b[1m0s\u001b[0m 7ms/step - loss: 0.0198 - val_loss: 0.0155\n",
      "Epoch 8/200\n",
      "\u001b[1m9/9\u001b[0m \u001b[32m━━━━━━━━━━━━━━━━━━━━\u001b[0m\u001b[37m\u001b[0m \u001b[1m0s\u001b[0m 13ms/step - loss: 0.0141 - val_loss: 0.0125\n",
      "Epoch 9/200\n",
      "\u001b[1m9/9\u001b[0m \u001b[32m━━━━━━━━━━━━━━━━━━━━\u001b[0m\u001b[37m\u001b[0m \u001b[1m0s\u001b[0m 8ms/step - loss: 0.0119 - val_loss: 0.0113\n",
      "Epoch 10/200\n",
      "\u001b[1m9/9\u001b[0m \u001b[32m━━━━━━━━━━━━━━━━━━━━\u001b[0m\u001b[37m\u001b[0m \u001b[1m0s\u001b[0m 8ms/step - loss: 0.0105 - val_loss: 0.0108\n",
      "Epoch 11/200\n",
      "\u001b[1m9/9\u001b[0m \u001b[32m━━━━━━━━━━━━━━━━━━━━\u001b[0m\u001b[37m\u001b[0m \u001b[1m0s\u001b[0m 9ms/step - loss: 0.0105 - val_loss: 0.0107\n",
      "Epoch 12/200\n",
      "\u001b[1m9/9\u001b[0m \u001b[32m━━━━━━━━━━━━━━━━━━━━\u001b[0m\u001b[37m\u001b[0m \u001b[1m0s\u001b[0m 8ms/step - loss: 0.0101 - val_loss: 0.0106\n",
      "Epoch 13/200\n",
      "\u001b[1m9/9\u001b[0m \u001b[32m━━━━━━━━━━━━━━━━━━━━\u001b[0m\u001b[37m\u001b[0m \u001b[1m0s\u001b[0m 8ms/step - loss: 0.0100 - val_loss: 0.0105\n",
      "Epoch 14/200\n",
      "\u001b[1m9/9\u001b[0m \u001b[32m━━━━━━━━━━━━━━━━━━━━\u001b[0m\u001b[37m\u001b[0m \u001b[1m0s\u001b[0m 11ms/step - loss: 0.0099 - val_loss: 0.0105\n",
      "Epoch 15/200\n",
      "\u001b[1m9/9\u001b[0m \u001b[32m━━━━━━━━━━━━━━━━━━━━\u001b[0m\u001b[37m\u001b[0m \u001b[1m0s\u001b[0m 7ms/step - loss: 0.0098 - val_loss: 0.0104\n",
      "Epoch 16/200\n",
      "\u001b[1m9/9\u001b[0m \u001b[32m━━━━━━━━━━━━━━━━━━━━\u001b[0m\u001b[37m\u001b[0m \u001b[1m0s\u001b[0m 8ms/step - loss: 0.0099 - val_loss: 0.0104\n",
      "Epoch 17/200\n",
      "\u001b[1m9/9\u001b[0m \u001b[32m━━━━━━━━━━━━━━━━━━━━\u001b[0m\u001b[37m\u001b[0m \u001b[1m0s\u001b[0m 9ms/step - loss: 0.0098 - val_loss: 0.0103\n",
      "Epoch 18/200\n",
      "\u001b[1m9/9\u001b[0m \u001b[32m━━━━━━━━━━━━━━━━━━━━\u001b[0m\u001b[37m\u001b[0m \u001b[1m0s\u001b[0m 9ms/step - loss: 0.0097 - val_loss: 0.0102\n",
      "Epoch 19/200\n",
      "\u001b[1m9/9\u001b[0m \u001b[32m━━━━━━━━━━━━━━━━━━━━\u001b[0m\u001b[37m\u001b[0m \u001b[1m0s\u001b[0m 9ms/step - loss: 0.0092 - val_loss: 0.0100\n",
      "Epoch 20/200\n",
      "\u001b[1m9/9\u001b[0m \u001b[32m━━━━━━━━━━━━━━━━━━━━\u001b[0m\u001b[37m\u001b[0m \u001b[1m0s\u001b[0m 9ms/step - loss: 0.0094 - val_loss: 0.0097\n",
      "Epoch 21/200\n",
      "\u001b[1m9/9\u001b[0m \u001b[32m━━━━━━━━━━━━━━━━━━━━\u001b[0m\u001b[37m\u001b[0m \u001b[1m0s\u001b[0m 9ms/step - loss: 0.0092 - val_loss: 0.0094\n",
      "Epoch 22/200\n",
      "\u001b[1m9/9\u001b[0m \u001b[32m━━━━━━━━━━━━━━━━━━━━\u001b[0m\u001b[37m\u001b[0m \u001b[1m0s\u001b[0m 8ms/step - loss: 0.0087 - val_loss: 0.0089\n",
      "Epoch 23/200\n",
      "\u001b[1m9/9\u001b[0m \u001b[32m━━━━━━━━━━━━━━━━━━━━\u001b[0m\u001b[37m\u001b[0m \u001b[1m0s\u001b[0m 7ms/step - loss: 0.0084 - val_loss: 0.0084\n",
      "Epoch 24/200\n",
      "\u001b[1m9/9\u001b[0m \u001b[32m━━━━━━━━━━━━━━━━━━━━\u001b[0m\u001b[37m\u001b[0m \u001b[1m0s\u001b[0m 8ms/step - loss: 0.0077 - val_loss: 0.0079\n",
      "Epoch 25/200\n",
      "\u001b[1m9/9\u001b[0m \u001b[32m━━━━━━━━━━━━━━━━━━━━\u001b[0m\u001b[37m\u001b[0m \u001b[1m0s\u001b[0m 8ms/step - loss: 0.0074 - val_loss: 0.0075\n",
      "Epoch 26/200\n",
      "\u001b[1m9/9\u001b[0m \u001b[32m━━━━━━━━━━━━━━━━━━━━\u001b[0m\u001b[37m\u001b[0m \u001b[1m0s\u001b[0m 8ms/step - loss: 0.0069 - val_loss: 0.0072\n",
      "Epoch 27/200\n",
      "\u001b[1m9/9\u001b[0m \u001b[32m━━━━━━━━━━━━━━━━━━━━\u001b[0m\u001b[37m\u001b[0m \u001b[1m0s\u001b[0m 9ms/step - loss: 0.0067 - val_loss: 0.0069\n",
      "Epoch 28/200\n",
      "\u001b[1m9/9\u001b[0m \u001b[32m━━━━━━━━━━━━━━━━━━━━\u001b[0m\u001b[37m\u001b[0m \u001b[1m0s\u001b[0m 8ms/step - loss: 0.0064 - val_loss: 0.0067\n",
      "Epoch 29/200\n",
      "\u001b[1m9/9\u001b[0m \u001b[32m━━━━━━━━━━━━━━━━━━━━\u001b[0m\u001b[37m\u001b[0m \u001b[1m0s\u001b[0m 8ms/step - loss: 0.0064 - val_loss: 0.0066\n",
      "Epoch 30/200\n",
      "\u001b[1m9/9\u001b[0m \u001b[32m━━━━━━━━━━━━━━━━━━━━\u001b[0m\u001b[37m\u001b[0m \u001b[1m0s\u001b[0m 8ms/step - loss: 0.0062 - val_loss: 0.0065\n",
      "Epoch 31/200\n",
      "\u001b[1m9/9\u001b[0m \u001b[32m━━━━━━━━━━━━━━━━━━━━\u001b[0m\u001b[37m\u001b[0m \u001b[1m0s\u001b[0m 8ms/step - loss: 0.0061 - val_loss: 0.0064\n",
      "Epoch 32/200\n",
      "\u001b[1m9/9\u001b[0m \u001b[32m━━━━━━━━━━━━━━━━━━━━\u001b[0m\u001b[37m\u001b[0m \u001b[1m0s\u001b[0m 8ms/step - loss: 0.0061 - val_loss: 0.0063\n",
      "Epoch 33/200\n",
      "\u001b[1m9/9\u001b[0m \u001b[32m━━━━━━━━━━━━━━━━━━━━\u001b[0m\u001b[37m\u001b[0m \u001b[1m0s\u001b[0m 9ms/step - loss: 0.0060 - val_loss: 0.0062\n",
      "Epoch 34/200\n",
      "\u001b[1m9/9\u001b[0m \u001b[32m━━━━━━━━━━━━━━━━━━━━\u001b[0m\u001b[37m\u001b[0m \u001b[1m0s\u001b[0m 13ms/step - loss: 0.0057 - val_loss: 0.0061\n",
      "Epoch 35/200\n",
      "\u001b[1m9/9\u001b[0m \u001b[32m━━━━━━━━━━━━━━━━━━━━\u001b[0m\u001b[37m\u001b[0m \u001b[1m0s\u001b[0m 9ms/step - loss: 0.0058 - val_loss: 0.0061\n",
      "Epoch 36/200\n",
      "\u001b[1m9/9\u001b[0m \u001b[32m━━━━━━━━━━━━━━━━━━━━\u001b[0m\u001b[37m\u001b[0m \u001b[1m0s\u001b[0m 11ms/step - loss: 0.0058 - val_loss: 0.0060\n",
      "Epoch 37/200\n",
      "\u001b[1m9/9\u001b[0m \u001b[32m━━━━━━━━━━━━━━━━━━━━\u001b[0m\u001b[37m\u001b[0m \u001b[1m0s\u001b[0m 11ms/step - loss: 0.0057 - val_loss: 0.0059\n",
      "Epoch 38/200\n",
      "\u001b[1m9/9\u001b[0m \u001b[32m━━━━━━━━━━━━━━━━━━━━\u001b[0m\u001b[37m\u001b[0m \u001b[1m0s\u001b[0m 10ms/step - loss: 0.0055 - val_loss: 0.0058\n",
      "Epoch 39/200\n",
      "\u001b[1m9/9\u001b[0m \u001b[32m━━━━━━━━━━━━━━━━━━━━\u001b[0m\u001b[37m\u001b[0m \u001b[1m0s\u001b[0m 9ms/step - loss: 0.0055 - val_loss: 0.0058\n",
      "Epoch 40/200\n",
      "\u001b[1m9/9\u001b[0m \u001b[32m━━━━━━━━━━━━━━━━━━━━\u001b[0m\u001b[37m\u001b[0m \u001b[1m0s\u001b[0m 8ms/step - loss: 0.0055 - val_loss: 0.0057\n",
      "Epoch 41/200\n",
      "\u001b[1m9/9\u001b[0m \u001b[32m━━━━━━━━━━━━━━━━━━━━\u001b[0m\u001b[37m\u001b[0m \u001b[1m0s\u001b[0m 10ms/step - loss: 0.0054 - val_loss: 0.0056\n",
      "Epoch 42/200\n",
      "\u001b[1m9/9\u001b[0m \u001b[32m━━━━━━━━━━━━━━━━━━━━\u001b[0m\u001b[37m\u001b[0m \u001b[1m0s\u001b[0m 8ms/step - loss: 0.0053 - val_loss: 0.0055\n",
      "Epoch 43/200\n",
      "\u001b[1m9/9\u001b[0m \u001b[32m━━━━━━━━━━━━━━━━━━━━\u001b[0m\u001b[37m\u001b[0m \u001b[1m0s\u001b[0m 9ms/step - loss: 0.0052 - val_loss: 0.0055\n",
      "Epoch 44/200\n",
      "\u001b[1m9/9\u001b[0m \u001b[32m━━━━━━━━━━━━━━━━━━━━\u001b[0m\u001b[37m\u001b[0m \u001b[1m0s\u001b[0m 9ms/step - loss: 0.0052 - val_loss: 0.0054\n",
      "Epoch 45/200\n",
      "\u001b[1m9/9\u001b[0m \u001b[32m━━━━━━━━━━━━━━━━━━━━\u001b[0m\u001b[37m\u001b[0m \u001b[1m0s\u001b[0m 8ms/step - loss: 0.0051 - val_loss: 0.0053\n",
      "Epoch 46/200\n",
      "\u001b[1m9/9\u001b[0m \u001b[32m━━━━━━━━━━━━━━━━━━━━\u001b[0m\u001b[37m\u001b[0m \u001b[1m0s\u001b[0m 8ms/step - loss: 0.0050 - val_loss: 0.0052\n",
      "Epoch 47/200\n",
      "\u001b[1m9/9\u001b[0m \u001b[32m━━━━━━━━━━━━━━━━━━━━\u001b[0m\u001b[37m\u001b[0m \u001b[1m0s\u001b[0m 12ms/step - loss: 0.0050 - val_loss: 0.0051\n",
      "Epoch 48/200\n",
      "\u001b[1m9/9\u001b[0m \u001b[32m━━━━━━━━━━━━━━━━━━━━\u001b[0m\u001b[37m\u001b[0m \u001b[1m0s\u001b[0m 8ms/step - loss: 0.0047 - val_loss: 0.0050\n",
      "Epoch 49/200\n",
      "\u001b[1m9/9\u001b[0m \u001b[32m━━━━━━━━━━━━━━━━━━━━\u001b[0m\u001b[37m\u001b[0m \u001b[1m0s\u001b[0m 8ms/step - loss: 0.0048 - val_loss: 0.0049\n",
      "Epoch 50/200\n",
      "\u001b[1m9/9\u001b[0m \u001b[32m━━━━━━━━━━━━━━━━━━━━\u001b[0m\u001b[37m\u001b[0m \u001b[1m0s\u001b[0m 8ms/step - loss: 0.0045 - val_loss: 0.0048\n",
      "Epoch 51/200\n",
      "\u001b[1m9/9\u001b[0m \u001b[32m━━━━━━━━━━━━━━━━━━━━\u001b[0m\u001b[37m\u001b[0m \u001b[1m0s\u001b[0m 11ms/step - loss: 0.0046 - val_loss: 0.0047\n",
      "Epoch 52/200\n",
      "\u001b[1m9/9\u001b[0m \u001b[32m━━━━━━━━━━━━━━━━━━━━\u001b[0m\u001b[37m\u001b[0m \u001b[1m0s\u001b[0m 13ms/step - loss: 0.0045 - val_loss: 0.0047\n",
      "Epoch 53/200\n",
      "\u001b[1m9/9\u001b[0m \u001b[32m━━━━━━━━━━━━━━━━━━━━\u001b[0m\u001b[37m\u001b[0m \u001b[1m0s\u001b[0m 8ms/step - loss: 0.0045 - val_loss: 0.0046\n",
      "Epoch 54/200\n",
      "\u001b[1m9/9\u001b[0m \u001b[32m━━━━━━━━━━━━━━━━━━━━\u001b[0m\u001b[37m\u001b[0m \u001b[1m0s\u001b[0m 7ms/step - loss: 0.0043 - val_loss: 0.0046\n",
      "Epoch 55/200\n",
      "\u001b[1m9/9\u001b[0m \u001b[32m━━━━━━━━━━━━━━━━━━━━\u001b[0m\u001b[37m\u001b[0m \u001b[1m0s\u001b[0m 7ms/step - loss: 0.0043 - val_loss: 0.0045\n",
      "Epoch 56/200\n",
      "\u001b[1m9/9\u001b[0m \u001b[32m━━━━━━━━━━━━━━━━━━━━\u001b[0m\u001b[37m\u001b[0m \u001b[1m0s\u001b[0m 8ms/step - loss: 0.0042 - val_loss: 0.0045\n",
      "Epoch 57/200\n",
      "\u001b[1m9/9\u001b[0m \u001b[32m━━━━━━━━━━━━━━━━━━━━\u001b[0m\u001b[37m\u001b[0m \u001b[1m0s\u001b[0m 8ms/step - loss: 0.0042 - val_loss: 0.0044\n",
      "Epoch 58/200\n",
      "\u001b[1m9/9\u001b[0m \u001b[32m━━━━━━━━━━━━━━━━━━━━\u001b[0m\u001b[37m\u001b[0m \u001b[1m0s\u001b[0m 22ms/step - loss: 0.0042 - val_loss: 0.0044\n",
      "Epoch 59/200\n",
      "\u001b[1m9/9\u001b[0m \u001b[32m━━━━━━━━━━━━━━━━━━━━\u001b[0m\u001b[37m\u001b[0m \u001b[1m0s\u001b[0m 9ms/step - loss: 0.0041 - val_loss: 0.0044\n",
      "Epoch 60/200\n",
      "\u001b[1m9/9\u001b[0m \u001b[32m━━━━━━━━━━━━━━━━━━━━\u001b[0m\u001b[37m\u001b[0m \u001b[1m0s\u001b[0m 7ms/step - loss: 0.0041 - val_loss: 0.0043\n",
      "Epoch 61/200\n",
      "\u001b[1m9/9\u001b[0m \u001b[32m━━━━━━━━━━━━━━━━━━━━\u001b[0m\u001b[37m\u001b[0m \u001b[1m0s\u001b[0m 7ms/step - loss: 0.0041 - val_loss: 0.0043\n",
      "Epoch 62/200\n",
      "\u001b[1m9/9\u001b[0m \u001b[32m━━━━━━━━━━━━━━━━━━━━\u001b[0m\u001b[37m\u001b[0m \u001b[1m0s\u001b[0m 10ms/step - loss: 0.0041 - val_loss: 0.0042\n",
      "Epoch 63/200\n",
      "\u001b[1m9/9\u001b[0m \u001b[32m━━━━━━━━━━━━━━━━━━━━\u001b[0m\u001b[37m\u001b[0m \u001b[1m0s\u001b[0m 7ms/step - loss: 0.0040 - val_loss: 0.0042\n",
      "Epoch 64/200\n",
      "\u001b[1m9/9\u001b[0m \u001b[32m━━━━━━━━━━━━━━━━━━━━\u001b[0m\u001b[37m\u001b[0m \u001b[1m0s\u001b[0m 7ms/step - loss: 0.0040 - val_loss: 0.0041\n",
      "Epoch 65/200\n",
      "\u001b[1m9/9\u001b[0m \u001b[32m━━━━━━━━━━━━━━━━━━━━\u001b[0m\u001b[37m\u001b[0m \u001b[1m0s\u001b[0m 7ms/step - loss: 0.0039 - val_loss: 0.0041\n",
      "Epoch 66/200\n",
      "\u001b[1m9/9\u001b[0m \u001b[32m━━━━━━━━━━━━━━━━━━━━\u001b[0m\u001b[37m\u001b[0m \u001b[1m0s\u001b[0m 7ms/step - loss: 0.0038 - val_loss: 0.0041\n",
      "Epoch 67/200\n",
      "\u001b[1m9/9\u001b[0m \u001b[32m━━━━━━━━━━━━━━━━━━━━\u001b[0m\u001b[37m\u001b[0m \u001b[1m0s\u001b[0m 8ms/step - loss: 0.0039 - val_loss: 0.0040\n",
      "Epoch 68/200\n",
      "\u001b[1m9/9\u001b[0m \u001b[32m━━━━━━━━━━━━━━━━━━━━\u001b[0m\u001b[37m\u001b[0m \u001b[1m0s\u001b[0m 7ms/step - loss: 0.0037 - val_loss: 0.0040\n",
      "Epoch 69/200\n",
      "\u001b[1m9/9\u001b[0m \u001b[32m━━━━━━━━━━━━━━━━━━━━\u001b[0m\u001b[37m\u001b[0m \u001b[1m0s\u001b[0m 9ms/step - loss: 0.0037 - val_loss: 0.0039\n",
      "Epoch 70/200\n",
      "\u001b[1m9/9\u001b[0m \u001b[32m━━━━━━━━━━━━━━━━━━━━\u001b[0m\u001b[37m\u001b[0m \u001b[1m0s\u001b[0m 7ms/step - loss: 0.0038 - val_loss: 0.0039\n",
      "Epoch 71/200\n",
      "\u001b[1m9/9\u001b[0m \u001b[32m━━━━━━━━━━━━━━━━━━━━\u001b[0m\u001b[37m\u001b[0m \u001b[1m0s\u001b[0m 7ms/step - loss: 0.0037 - val_loss: 0.0038\n",
      "Epoch 72/200\n",
      "\u001b[1m9/9\u001b[0m \u001b[32m━━━━━━━━━━━━━━━━━━━━\u001b[0m\u001b[37m\u001b[0m \u001b[1m0s\u001b[0m 9ms/step - loss: 0.0038 - val_loss: 0.0038\n",
      "Epoch 73/200\n",
      "\u001b[1m9/9\u001b[0m \u001b[32m━━━━━━━━━━━━━━━━━━━━\u001b[0m\u001b[37m\u001b[0m \u001b[1m0s\u001b[0m 8ms/step - loss: 0.0036 - val_loss: 0.0038\n",
      "Epoch 74/200\n",
      "\u001b[1m9/9\u001b[0m \u001b[32m━━━━━━━━━━━━━━━━━━━━\u001b[0m\u001b[37m\u001b[0m \u001b[1m0s\u001b[0m 8ms/step - loss: 0.0036 - val_loss: 0.0037\n",
      "Epoch 75/200\n",
      "\u001b[1m9/9\u001b[0m \u001b[32m━━━━━━━━━━━━━━━━━━━━\u001b[0m\u001b[37m\u001b[0m \u001b[1m0s\u001b[0m 7ms/step - loss: 0.0037 - val_loss: 0.0037\n",
      "Epoch 76/200\n",
      "\u001b[1m9/9\u001b[0m \u001b[32m━━━━━━━━━━━━━━━━━━━━\u001b[0m\u001b[37m\u001b[0m \u001b[1m0s\u001b[0m 7ms/step - loss: 0.0035 - val_loss: 0.0037\n",
      "Epoch 77/200\n",
      "\u001b[1m9/9\u001b[0m \u001b[32m━━━━━━━━━━━━━━━━━━━━\u001b[0m\u001b[37m\u001b[0m \u001b[1m0s\u001b[0m 7ms/step - loss: 0.0035 - val_loss: 0.0036\n",
      "Epoch 78/200\n",
      "\u001b[1m9/9\u001b[0m \u001b[32m━━━━━━━━━━━━━━━━━━━━\u001b[0m\u001b[37m\u001b[0m \u001b[1m0s\u001b[0m 7ms/step - loss: 0.0035 - val_loss: 0.0036\n",
      "Epoch 79/200\n",
      "\u001b[1m9/9\u001b[0m \u001b[32m━━━━━━━━━━━━━━━━━━━━\u001b[0m\u001b[37m\u001b[0m \u001b[1m0s\u001b[0m 8ms/step - loss: 0.0035 - val_loss: 0.0035\n",
      "Epoch 80/200\n",
      "\u001b[1m9/9\u001b[0m \u001b[32m━━━━━━━━━━━━━━━━━━━━\u001b[0m\u001b[37m\u001b[0m \u001b[1m0s\u001b[0m 7ms/step - loss: 0.0033 - val_loss: 0.0035\n",
      "Epoch 81/200\n",
      "\u001b[1m9/9\u001b[0m \u001b[32m━━━━━━━━━━━━━━━━━━━━\u001b[0m\u001b[37m\u001b[0m \u001b[1m0s\u001b[0m 7ms/step - loss: 0.0033 - val_loss: 0.0035\n",
      "Epoch 82/200\n",
      "\u001b[1m9/9\u001b[0m \u001b[32m━━━━━━━━━━━━━━━━━━━━\u001b[0m\u001b[37m\u001b[0m \u001b[1m0s\u001b[0m 8ms/step - loss: 0.0033 - val_loss: 0.0034\n",
      "Epoch 83/200\n",
      "\u001b[1m9/9\u001b[0m \u001b[32m━━━━━━━━━━━━━━━━━━━━\u001b[0m\u001b[37m\u001b[0m \u001b[1m0s\u001b[0m 8ms/step - loss: 0.0032 - val_loss: 0.0034\n",
      "Epoch 84/200\n",
      "\u001b[1m9/9\u001b[0m \u001b[32m━━━━━━━━━━━━━━━━━━━━\u001b[0m\u001b[37m\u001b[0m \u001b[1m0s\u001b[0m 8ms/step - loss: 0.0032 - val_loss: 0.0034\n",
      "Epoch 85/200\n",
      "\u001b[1m9/9\u001b[0m \u001b[32m━━━━━━━━━━━━━━━━━━━━\u001b[0m\u001b[37m\u001b[0m \u001b[1m0s\u001b[0m 8ms/step - loss: 0.0033 - val_loss: 0.0034\n",
      "Epoch 86/200\n",
      "\u001b[1m9/9\u001b[0m \u001b[32m━━━━━━━━━━━━━━━━━━━━\u001b[0m\u001b[37m\u001b[0m \u001b[1m0s\u001b[0m 7ms/step - loss: 0.0032 - val_loss: 0.0033\n",
      "Epoch 87/200\n",
      "\u001b[1m9/9\u001b[0m \u001b[32m━━━━━━━━━━━━━━━━━━━━\u001b[0m\u001b[37m\u001b[0m \u001b[1m0s\u001b[0m 7ms/step - loss: 0.0031 - val_loss: 0.0033\n",
      "Epoch 88/200\n",
      "\u001b[1m9/9\u001b[0m \u001b[32m━━━━━━━━━━━━━━━━━━━━\u001b[0m\u001b[37m\u001b[0m \u001b[1m0s\u001b[0m 8ms/step - loss: 0.0031 - val_loss: 0.0033\n",
      "Epoch 89/200\n",
      "\u001b[1m9/9\u001b[0m \u001b[32m━━━━━━━━━━━━━━━━━━━━\u001b[0m\u001b[37m\u001b[0m \u001b[1m0s\u001b[0m 7ms/step - loss: 0.0032 - val_loss: 0.0033\n",
      "Epoch 90/200\n",
      "\u001b[1m9/9\u001b[0m \u001b[32m━━━━━━━━━━━━━━━━━━━━\u001b[0m\u001b[37m\u001b[0m \u001b[1m0s\u001b[0m 7ms/step - loss: 0.0032 - val_loss: 0.0032\n",
      "Epoch 91/200\n",
      "\u001b[1m9/9\u001b[0m \u001b[32m━━━━━━━━━━━━━━━━━━━━\u001b[0m\u001b[37m\u001b[0m \u001b[1m0s\u001b[0m 7ms/step - loss: 0.0032 - val_loss: 0.0032\n",
      "Epoch 92/200\n",
      "\u001b[1m9/9\u001b[0m \u001b[32m━━━━━━━━━━━━━━━━━━━━\u001b[0m\u001b[37m\u001b[0m \u001b[1m0s\u001b[0m 7ms/step - loss: 0.0031 - val_loss: 0.0032\n",
      "Epoch 93/200\n",
      "\u001b[1m9/9\u001b[0m \u001b[32m━━━━━━━━━━━━━━━━━━━━\u001b[0m\u001b[37m\u001b[0m \u001b[1m0s\u001b[0m 8ms/step - loss: 0.0030 - val_loss: 0.0032\n",
      "Epoch 94/200\n",
      "\u001b[1m9/9\u001b[0m \u001b[32m━━━━━━━━━━━━━━━━━━━━\u001b[0m\u001b[37m\u001b[0m \u001b[1m0s\u001b[0m 6ms/step - loss: 0.0029 - val_loss: 0.0031\n",
      "Epoch 95/200\n",
      "\u001b[1m9/9\u001b[0m \u001b[32m━━━━━━━━━━━━━━━━━━━━\u001b[0m\u001b[37m\u001b[0m \u001b[1m0s\u001b[0m 8ms/step - loss: 0.0029 - val_loss: 0.0031\n",
      "Epoch 96/200\n",
      "\u001b[1m9/9\u001b[0m \u001b[32m━━━━━━━━━━━━━━━━━━━━\u001b[0m\u001b[37m\u001b[0m \u001b[1m0s\u001b[0m 8ms/step - loss: 0.0030 - val_loss: 0.0031\n",
      "Epoch 97/200\n",
      "\u001b[1m9/9\u001b[0m \u001b[32m━━━━━━━━━━━━━━━━━━━━\u001b[0m\u001b[37m\u001b[0m \u001b[1m0s\u001b[0m 7ms/step - loss: 0.0029 - val_loss: 0.0031\n",
      "Epoch 98/200\n",
      "\u001b[1m9/9\u001b[0m \u001b[32m━━━━━━━━━━━━━━━━━━━━\u001b[0m\u001b[37m\u001b[0m \u001b[1m0s\u001b[0m 7ms/step - loss: 0.0029 - val_loss: 0.0031\n",
      "Epoch 99/200\n",
      "\u001b[1m9/9\u001b[0m \u001b[32m━━━━━━━━━━━━━━━━━━━━\u001b[0m\u001b[37m\u001b[0m \u001b[1m0s\u001b[0m 8ms/step - loss: 0.0029 - val_loss: 0.0031\n",
      "Epoch 100/200\n",
      "\u001b[1m9/9\u001b[0m \u001b[32m━━━━━━━━━━━━━━━━━━━━\u001b[0m\u001b[37m\u001b[0m \u001b[1m0s\u001b[0m 7ms/step - loss: 0.0029 - val_loss: 0.0030\n",
      "Epoch 101/200\n",
      "\u001b[1m9/9\u001b[0m \u001b[32m━━━━━━━━━━━━━━━━━━━━\u001b[0m\u001b[37m\u001b[0m \u001b[1m0s\u001b[0m 7ms/step - loss: 0.0028 - val_loss: 0.0030\n",
      "Epoch 102/200\n",
      "\u001b[1m9/9\u001b[0m \u001b[32m━━━━━━━━━━━━━━━━━━━━\u001b[0m\u001b[37m\u001b[0m \u001b[1m0s\u001b[0m 7ms/step - loss: 0.0029 - val_loss: 0.0030\n",
      "Epoch 103/200\n",
      "\u001b[1m9/9\u001b[0m \u001b[32m━━━━━━━━━━━━━━━━━━━━\u001b[0m\u001b[37m\u001b[0m \u001b[1m0s\u001b[0m 7ms/step - loss: 0.0029 - val_loss: 0.0030\n",
      "Epoch 104/200\n",
      "\u001b[1m9/9\u001b[0m \u001b[32m━━━━━━━━━━━━━━━━━━━━\u001b[0m\u001b[37m\u001b[0m \u001b[1m0s\u001b[0m 7ms/step - loss: 0.0028 - val_loss: 0.0030\n",
      "Epoch 105/200\n",
      "\u001b[1m9/9\u001b[0m \u001b[32m━━━━━━━━━━━━━━━━━━━━\u001b[0m\u001b[37m\u001b[0m \u001b[1m0s\u001b[0m 7ms/step - loss: 0.0029 - val_loss: 0.0030\n",
      "Epoch 106/200\n",
      "\u001b[1m9/9\u001b[0m \u001b[32m━━━━━━━━━━━━━━━━━━━━\u001b[0m\u001b[37m\u001b[0m \u001b[1m0s\u001b[0m 8ms/step - loss: 0.0028 - val_loss: 0.0029\n",
      "Epoch 107/200\n",
      "\u001b[1m9/9\u001b[0m \u001b[32m━━━━━━━━━━━━━━━━━━━━\u001b[0m\u001b[37m\u001b[0m \u001b[1m0s\u001b[0m 7ms/step - loss: 0.0028 - val_loss: 0.0029\n",
      "Epoch 108/200\n",
      "\u001b[1m9/9\u001b[0m \u001b[32m━━━━━━━━━━━━━━━━━━━━\u001b[0m\u001b[37m\u001b[0m \u001b[1m0s\u001b[0m 7ms/step - loss: 0.0027 - val_loss: 0.0029\n",
      "Epoch 109/200\n",
      "\u001b[1m9/9\u001b[0m \u001b[32m━━━━━━━━━━━━━━━━━━━━\u001b[0m\u001b[37m\u001b[0m \u001b[1m0s\u001b[0m 7ms/step - loss: 0.0028 - val_loss: 0.0029\n",
      "Epoch 110/200\n",
      "\u001b[1m9/9\u001b[0m \u001b[32m━━━━━━━━━━━━━━━━━━━━\u001b[0m\u001b[37m\u001b[0m \u001b[1m0s\u001b[0m 7ms/step - loss: 0.0028 - val_loss: 0.0029\n",
      "Epoch 111/200\n",
      "\u001b[1m9/9\u001b[0m \u001b[32m━━━━━━━━━━━━━━━━━━━━\u001b[0m\u001b[37m\u001b[0m \u001b[1m0s\u001b[0m 7ms/step - loss: 0.0028 - val_loss: 0.0029\n",
      "Epoch 112/200\n",
      "\u001b[1m9/9\u001b[0m \u001b[32m━━━━━━━━━━━━━━━━━━━━\u001b[0m\u001b[37m\u001b[0m \u001b[1m0s\u001b[0m 10ms/step - loss: 0.0027 - val_loss: 0.0029\n",
      "Epoch 113/200\n",
      "\u001b[1m9/9\u001b[0m \u001b[32m━━━━━━━━━━━━━━━━━━━━\u001b[0m\u001b[37m\u001b[0m \u001b[1m0s\u001b[0m 7ms/step - loss: 0.0028 - val_loss: 0.0029\n",
      "Epoch 114/200\n",
      "\u001b[1m9/9\u001b[0m \u001b[32m━━━━━━━━━━━━━━━━━━━━\u001b[0m\u001b[37m\u001b[0m \u001b[1m0s\u001b[0m 7ms/step - loss: 0.0027 - val_loss: 0.0029\n",
      "Epoch 115/200\n",
      "\u001b[1m9/9\u001b[0m \u001b[32m━━━━━━━━━━━━━━━━━━━━\u001b[0m\u001b[37m\u001b[0m \u001b[1m0s\u001b[0m 7ms/step - loss: 0.0027 - val_loss: 0.0029\n",
      "Epoch 116/200\n",
      "\u001b[1m9/9\u001b[0m \u001b[32m━━━━━━━━━━━━━━━━━━━━\u001b[0m\u001b[37m\u001b[0m \u001b[1m0s\u001b[0m 7ms/step - loss: 0.0026 - val_loss: 0.0029\n",
      "Epoch 117/200\n",
      "\u001b[1m9/9\u001b[0m \u001b[32m━━━━━━━━━━━━━━━━━━━━\u001b[0m\u001b[37m\u001b[0m \u001b[1m0s\u001b[0m 8ms/step - loss: 0.0027 - val_loss: 0.0028\n",
      "Epoch 118/200\n",
      "\u001b[1m9/9\u001b[0m \u001b[32m━━━━━━━━━━━━━━━━━━━━\u001b[0m\u001b[37m\u001b[0m \u001b[1m0s\u001b[0m 8ms/step - loss: 0.0027 - val_loss: 0.0028\n",
      "Epoch 119/200\n",
      "\u001b[1m9/9\u001b[0m \u001b[32m━━━━━━━━━━━━━━━━━━━━\u001b[0m\u001b[37m\u001b[0m \u001b[1m0s\u001b[0m 7ms/step - loss: 0.0027 - val_loss: 0.0028\n",
      "Epoch 120/200\n",
      "\u001b[1m9/9\u001b[0m \u001b[32m━━━━━━━━━━━━━━━━━━━━\u001b[0m\u001b[37m\u001b[0m \u001b[1m0s\u001b[0m 8ms/step - loss: 0.0027 - val_loss: 0.0028\n",
      "Epoch 121/200\n",
      "\u001b[1m9/9\u001b[0m \u001b[32m━━━━━━━━━━━━━━━━━━━━\u001b[0m\u001b[37m\u001b[0m \u001b[1m0s\u001b[0m 7ms/step - loss: 0.0026 - val_loss: 0.0028\n",
      "Epoch 122/200\n",
      "\u001b[1m9/9\u001b[0m \u001b[32m━━━━━━━━━━━━━━━━━━━━\u001b[0m\u001b[37m\u001b[0m \u001b[1m0s\u001b[0m 7ms/step - loss: 0.0027 - val_loss: 0.0028\n",
      "Epoch 123/200\n",
      "\u001b[1m9/9\u001b[0m \u001b[32m━━━━━━━━━━━━━━━━━━━━\u001b[0m\u001b[37m\u001b[0m \u001b[1m0s\u001b[0m 7ms/step - loss: 0.0027 - val_loss: 0.0028\n",
      "Epoch 124/200\n",
      "\u001b[1m9/9\u001b[0m \u001b[32m━━━━━━━━━━━━━━━━━━━━\u001b[0m\u001b[37m\u001b[0m \u001b[1m0s\u001b[0m 7ms/step - loss: 0.0026 - val_loss: 0.0028\n",
      "Epoch 125/200\n",
      "\u001b[1m9/9\u001b[0m \u001b[32m━━━━━━━━━━━━━━━━━━━━\u001b[0m\u001b[37m\u001b[0m \u001b[1m0s\u001b[0m 11ms/step - loss: 0.0026 - val_loss: 0.0028\n",
      "Epoch 126/200\n",
      "\u001b[1m9/9\u001b[0m \u001b[32m━━━━━━━━━━━━━━━━━━━━\u001b[0m\u001b[37m\u001b[0m \u001b[1m0s\u001b[0m 8ms/step - loss: 0.0027 - val_loss: 0.0028\n",
      "Epoch 127/200\n",
      "\u001b[1m9/9\u001b[0m \u001b[32m━━━━━━━━━━━━━━━━━━━━\u001b[0m\u001b[37m\u001b[0m \u001b[1m0s\u001b[0m 7ms/step - loss: 0.0027 - val_loss: 0.0028\n",
      "Epoch 128/200\n",
      "\u001b[1m9/9\u001b[0m \u001b[32m━━━━━━━━━━━━━━━━━━━━\u001b[0m\u001b[37m\u001b[0m \u001b[1m0s\u001b[0m 22ms/step - loss: 0.0027 - val_loss: 0.0028\n",
      "Epoch 129/200\n",
      "\u001b[1m9/9\u001b[0m \u001b[32m━━━━━━━━━━━━━━━━━━━━\u001b[0m\u001b[37m\u001b[0m \u001b[1m0s\u001b[0m 7ms/step - loss: 0.0026 - val_loss: 0.0028\n",
      "Epoch 130/200\n",
      "\u001b[1m9/9\u001b[0m \u001b[32m━━━━━━━━━━━━━━━━━━━━\u001b[0m\u001b[37m\u001b[0m \u001b[1m0s\u001b[0m 7ms/step - loss: 0.0027 - val_loss: 0.0028\n",
      "Epoch 131/200\n",
      "\u001b[1m9/9\u001b[0m \u001b[32m━━━━━━━━━━━━━━━━━━━━\u001b[0m\u001b[37m\u001b[0m \u001b[1m0s\u001b[0m 7ms/step - loss: 0.0026 - val_loss: 0.0028\n",
      "Epoch 132/200\n",
      "\u001b[1m9/9\u001b[0m \u001b[32m━━━━━━━━━━━━━━━━━━━━\u001b[0m\u001b[37m\u001b[0m \u001b[1m0s\u001b[0m 7ms/step - loss: 0.0026 - val_loss: 0.0028\n",
      "Epoch 133/200\n",
      "\u001b[1m9/9\u001b[0m \u001b[32m━━━━━━━━━━━━━━━━━━━━\u001b[0m\u001b[37m\u001b[0m \u001b[1m0s\u001b[0m 7ms/step - loss: 0.0027 - val_loss: 0.0028\n",
      "Epoch 134/200\n",
      "\u001b[1m9/9\u001b[0m \u001b[32m━━━━━━━━━━━━━━━━━━━━\u001b[0m\u001b[37m\u001b[0m \u001b[1m0s\u001b[0m 7ms/step - loss: 0.0026 - val_loss: 0.0027\n",
      "Epoch 135/200\n",
      "\u001b[1m9/9\u001b[0m \u001b[32m━━━━━━━━━━━━━━━━━━━━\u001b[0m\u001b[37m\u001b[0m \u001b[1m0s\u001b[0m 8ms/step - loss: 0.0026 - val_loss: 0.0027\n",
      "Epoch 136/200\n",
      "\u001b[1m9/9\u001b[0m \u001b[32m━━━━━━━━━━━━━━━━━━━━\u001b[0m\u001b[37m\u001b[0m \u001b[1m0s\u001b[0m 7ms/step - loss: 0.0027 - val_loss: 0.0027\n",
      "Epoch 137/200\n",
      "\u001b[1m9/9\u001b[0m \u001b[32m━━━━━━━━━━━━━━━━━━━━\u001b[0m\u001b[37m\u001b[0m \u001b[1m0s\u001b[0m 7ms/step - loss: 0.0026 - val_loss: 0.0027\n",
      "Epoch 138/200\n",
      "\u001b[1m9/9\u001b[0m \u001b[32m━━━━━━━━━━━━━━━━━━━━\u001b[0m\u001b[37m\u001b[0m \u001b[1m0s\u001b[0m 8ms/step - loss: 0.0025 - val_loss: 0.0027\n",
      "Epoch 139/200\n",
      "\u001b[1m9/9\u001b[0m \u001b[32m━━━━━━━━━━━━━━━━━━━━\u001b[0m\u001b[37m\u001b[0m \u001b[1m0s\u001b[0m 7ms/step - loss: 0.0025 - val_loss: 0.0027\n",
      "Epoch 140/200\n",
      "\u001b[1m9/9\u001b[0m \u001b[32m━━━━━━━━━━━━━━━━━━━━\u001b[0m\u001b[37m\u001b[0m \u001b[1m0s\u001b[0m 7ms/step - loss: 0.0026 - val_loss: 0.0027\n",
      "Epoch 141/200\n",
      "\u001b[1m9/9\u001b[0m \u001b[32m━━━━━━━━━━━━━━━━━━━━\u001b[0m\u001b[37m\u001b[0m \u001b[1m0s\u001b[0m 7ms/step - loss: 0.0025 - val_loss: 0.0027\n",
      "Epoch 142/200\n",
      "\u001b[1m9/9\u001b[0m \u001b[32m━━━━━━━━━━━━━━━━━━━━\u001b[0m\u001b[37m\u001b[0m \u001b[1m0s\u001b[0m 9ms/step - loss: 0.0025 - val_loss: 0.0027\n",
      "Epoch 143/200\n",
      "\u001b[1m9/9\u001b[0m \u001b[32m━━━━━━━━━━━━━━━━━━━━\u001b[0m\u001b[37m\u001b[0m \u001b[1m0s\u001b[0m 7ms/step - loss: 0.0026 - val_loss: 0.0027\n",
      "Epoch 144/200\n",
      "\u001b[1m9/9\u001b[0m \u001b[32m━━━━━━━━━━━━━━━━━━━━\u001b[0m\u001b[37m\u001b[0m \u001b[1m0s\u001b[0m 9ms/step - loss: 0.0026 - val_loss: 0.0027\n",
      "Epoch 145/200\n",
      "\u001b[1m9/9\u001b[0m \u001b[32m━━━━━━━━━━━━━━━━━━━━\u001b[0m\u001b[37m\u001b[0m \u001b[1m0s\u001b[0m 7ms/step - loss: 0.0026 - val_loss: 0.0027\n",
      "Epoch 146/200\n",
      "\u001b[1m9/9\u001b[0m \u001b[32m━━━━━━━━━━━━━━━━━━━━\u001b[0m\u001b[37m\u001b[0m \u001b[1m0s\u001b[0m 8ms/step - loss: 0.0026 - val_loss: 0.0027\n",
      "Epoch 147/200\n",
      "\u001b[1m9/9\u001b[0m \u001b[32m━━━━━━━━━━━━━━━━━━━━\u001b[0m\u001b[37m\u001b[0m \u001b[1m0s\u001b[0m 7ms/step - loss: 0.0026 - val_loss: 0.0027\n",
      "Epoch 148/200\n",
      "\u001b[1m9/9\u001b[0m \u001b[32m━━━━━━━━━━━━━━━━━━━━\u001b[0m\u001b[37m\u001b[0m \u001b[1m0s\u001b[0m 7ms/step - loss: 0.0026 - val_loss: 0.0027\n",
      "Epoch 149/200\n",
      "\u001b[1m9/9\u001b[0m \u001b[32m━━━━━━━━━━━━━━━━━━━━\u001b[0m\u001b[37m\u001b[0m \u001b[1m0s\u001b[0m 7ms/step - loss: 0.0026 - val_loss: 0.0027\n",
      "Epoch 150/200\n",
      "\u001b[1m9/9\u001b[0m \u001b[32m━━━━━━━━━━━━━━━━━━━━\u001b[0m\u001b[37m\u001b[0m \u001b[1m0s\u001b[0m 7ms/step - loss: 0.0027 - val_loss: 0.0027\n",
      "Epoch 151/200\n",
      "\u001b[1m9/9\u001b[0m \u001b[32m━━━━━━━━━━━━━━━━━━━━\u001b[0m\u001b[37m\u001b[0m \u001b[1m0s\u001b[0m 7ms/step - loss: 0.0025 - val_loss: 0.0027\n",
      "Epoch 152/200\n",
      "\u001b[1m9/9\u001b[0m \u001b[32m━━━━━━━━━━━━━━━━━━━━\u001b[0m\u001b[37m\u001b[0m \u001b[1m0s\u001b[0m 7ms/step - loss: 0.0026 - val_loss: 0.0027\n",
      "Epoch 153/200\n",
      "\u001b[1m9/9\u001b[0m \u001b[32m━━━━━━━━━━━━━━━━━━━━\u001b[0m\u001b[37m\u001b[0m \u001b[1m0s\u001b[0m 7ms/step - loss: 0.0026 - val_loss: 0.0027\n",
      "Epoch 154/200\n",
      "\u001b[1m9/9\u001b[0m \u001b[32m━━━━━━━━━━━━━━━━━━━━\u001b[0m\u001b[37m\u001b[0m \u001b[1m0s\u001b[0m 7ms/step - loss: 0.0026 - val_loss: 0.0027\n",
      "Epoch 155/200\n",
      "\u001b[1m9/9\u001b[0m \u001b[32m━━━━━━━━━━━━━━━━━━━━\u001b[0m\u001b[37m\u001b[0m \u001b[1m0s\u001b[0m 8ms/step - loss: 0.0025 - val_loss: 0.0027\n",
      "Epoch 156/200\n",
      "\u001b[1m9/9\u001b[0m \u001b[32m━━━━━━━━━━━━━━━━━━━━\u001b[0m\u001b[37m\u001b[0m \u001b[1m0s\u001b[0m 7ms/step - loss: 0.0026 - val_loss: 0.0027\n",
      "Epoch 157/200\n",
      "\u001b[1m9/9\u001b[0m \u001b[32m━━━━━━━━━━━━━━━━━━━━\u001b[0m\u001b[37m\u001b[0m \u001b[1m0s\u001b[0m 7ms/step - loss: 0.0026 - val_loss: 0.0027\n",
      "Epoch 158/200\n",
      "\u001b[1m9/9\u001b[0m \u001b[32m━━━━━━━━━━━━━━━━━━━━\u001b[0m\u001b[37m\u001b[0m \u001b[1m0s\u001b[0m 7ms/step - loss: 0.0025 - val_loss: 0.0027\n",
      "Epoch 159/200\n",
      "\u001b[1m9/9\u001b[0m \u001b[32m━━━━━━━━━━━━━━━━━━━━\u001b[0m\u001b[37m\u001b[0m \u001b[1m0s\u001b[0m 7ms/step - loss: 0.0025 - val_loss: 0.0027\n",
      "Epoch 160/200\n",
      "\u001b[1m9/9\u001b[0m \u001b[32m━━━━━━━━━━━━━━━━━━━━\u001b[0m\u001b[37m\u001b[0m \u001b[1m0s\u001b[0m 8ms/step - loss: 0.0026 - val_loss: 0.0027\n",
      "Epoch 161/200\n",
      "\u001b[1m9/9\u001b[0m \u001b[32m━━━━━━━━━━━━━━━━━━━━\u001b[0m\u001b[37m\u001b[0m \u001b[1m0s\u001b[0m 7ms/step - loss: 0.0025 - val_loss: 0.0027\n",
      "Epoch 162/200\n",
      "\u001b[1m9/9\u001b[0m \u001b[32m━━━━━━━━━━━━━━━━━━━━\u001b[0m\u001b[37m\u001b[0m \u001b[1m0s\u001b[0m 7ms/step - loss: 0.0025 - val_loss: 0.0027\n",
      "Epoch 163/200\n",
      "\u001b[1m9/9\u001b[0m \u001b[32m━━━━━━━━━━━━━━━━━━━━\u001b[0m\u001b[37m\u001b[0m \u001b[1m0s\u001b[0m 7ms/step - loss: 0.0025 - val_loss: 0.0027\n",
      "Epoch 164/200\n",
      "\u001b[1m9/9\u001b[0m \u001b[32m━━━━━━━━━━━━━━━━━━━━\u001b[0m\u001b[37m\u001b[0m \u001b[1m0s\u001b[0m 7ms/step - loss: 0.0026 - val_loss: 0.0027\n",
      "Epoch 165/200\n",
      "\u001b[1m9/9\u001b[0m \u001b[32m━━━━━━━━━━━━━━━━━━━━\u001b[0m\u001b[37m\u001b[0m \u001b[1m0s\u001b[0m 7ms/step - loss: 0.0025 - val_loss: 0.0027\n",
      "Epoch 166/200\n",
      "\u001b[1m9/9\u001b[0m \u001b[32m━━━━━━━━━━━━━━━━━━━━\u001b[0m\u001b[37m\u001b[0m \u001b[1m0s\u001b[0m 7ms/step - loss: 0.0025 - val_loss: 0.0027\n",
      "Epoch 167/200\n",
      "\u001b[1m9/9\u001b[0m \u001b[32m━━━━━━━━━━━━━━━━━━━━\u001b[0m\u001b[37m\u001b[0m \u001b[1m0s\u001b[0m 7ms/step - loss: 0.0025 - val_loss: 0.0027\n",
      "Epoch 168/200\n",
      "\u001b[1m9/9\u001b[0m \u001b[32m━━━━━━━━━━━━━━━━━━━━\u001b[0m\u001b[37m\u001b[0m \u001b[1m0s\u001b[0m 7ms/step - loss: 0.0025 - val_loss: 0.0027\n",
      "Epoch 169/200\n",
      "\u001b[1m9/9\u001b[0m \u001b[32m━━━━━━━━━━━━━━━━━━━━\u001b[0m\u001b[37m\u001b[0m \u001b[1m0s\u001b[0m 7ms/step - loss: 0.0025 - val_loss: 0.0027\n",
      "Epoch 170/200\n",
      "\u001b[1m9/9\u001b[0m \u001b[32m━━━━━━━━━━━━━━━━━━━━\u001b[0m\u001b[37m\u001b[0m \u001b[1m0s\u001b[0m 8ms/step - loss: 0.0025 - val_loss: 0.0026\n",
      "Epoch 171/200\n",
      "\u001b[1m9/9\u001b[0m \u001b[32m━━━━━━━━━━━━━━━━━━━━\u001b[0m\u001b[37m\u001b[0m \u001b[1m0s\u001b[0m 7ms/step - loss: 0.0025 - val_loss: 0.0026\n",
      "Epoch 172/200\n",
      "\u001b[1m9/9\u001b[0m \u001b[32m━━━━━━━━━━━━━━━━━━━━\u001b[0m\u001b[37m\u001b[0m \u001b[1m0s\u001b[0m 7ms/step - loss: 0.0026 - val_loss: 0.0027\n",
      "Epoch 173/200\n",
      "\u001b[1m9/9\u001b[0m \u001b[32m━━━━━━━━━━━━━━━━━━━━\u001b[0m\u001b[37m\u001b[0m \u001b[1m0s\u001b[0m 7ms/step - loss: 0.0026 - val_loss: 0.0026\n",
      "Epoch 174/200\n",
      "\u001b[1m9/9\u001b[0m \u001b[32m━━━━━━━━━━━━━━━━━━━━\u001b[0m\u001b[37m\u001b[0m \u001b[1m0s\u001b[0m 7ms/step - loss: 0.0025 - val_loss: 0.0026\n",
      "Epoch 175/200\n",
      "\u001b[1m9/9\u001b[0m \u001b[32m━━━━━━━━━━━━━━━━━━━━\u001b[0m\u001b[37m\u001b[0m \u001b[1m0s\u001b[0m 8ms/step - loss: 0.0026 - val_loss: 0.0027\n",
      "Epoch 176/200\n",
      "\u001b[1m9/9\u001b[0m \u001b[32m━━━━━━━━━━━━━━━━━━━━\u001b[0m\u001b[37m\u001b[0m \u001b[1m0s\u001b[0m 9ms/step - loss: 0.0025 - val_loss: 0.0026\n",
      "Epoch 177/200\n",
      "\u001b[1m9/9\u001b[0m \u001b[32m━━━━━━━━━━━━━━━━━━━━\u001b[0m\u001b[37m\u001b[0m \u001b[1m0s\u001b[0m 7ms/step - loss: 0.0025 - val_loss: 0.0026\n",
      "Epoch 178/200\n",
      "\u001b[1m9/9\u001b[0m \u001b[32m━━━━━━━━━━━━━━━━━━━━\u001b[0m\u001b[37m\u001b[0m \u001b[1m0s\u001b[0m 7ms/step - loss: 0.0025 - val_loss: 0.0026\n",
      "Epoch 179/200\n",
      "\u001b[1m9/9\u001b[0m \u001b[32m━━━━━━━━━━━━━━━━━━━━\u001b[0m\u001b[37m\u001b[0m \u001b[1m0s\u001b[0m 7ms/step - loss: 0.0025 - val_loss: 0.0027\n",
      "Epoch 180/200\n",
      "\u001b[1m9/9\u001b[0m \u001b[32m━━━━━━━━━━━━━━━━━━━━\u001b[0m\u001b[37m\u001b[0m \u001b[1m0s\u001b[0m 7ms/step - loss: 0.0026 - val_loss: 0.0026\n",
      "Epoch 181/200\n",
      "\u001b[1m9/9\u001b[0m \u001b[32m━━━━━━━━━━━━━━━━━━━━\u001b[0m\u001b[37m\u001b[0m \u001b[1m0s\u001b[0m 7ms/step - loss: 0.0025 - val_loss: 0.0026\n",
      "Epoch 182/200\n",
      "\u001b[1m9/9\u001b[0m \u001b[32m━━━━━━━━━━━━━━━━━━━━\u001b[0m\u001b[37m\u001b[0m \u001b[1m0s\u001b[0m 7ms/step - loss: 0.0025 - val_loss: 0.0026\n",
      "Epoch 183/200\n",
      "\u001b[1m9/9\u001b[0m \u001b[32m━━━━━━━━━━━━━━━━━━━━\u001b[0m\u001b[37m\u001b[0m \u001b[1m0s\u001b[0m 8ms/step - loss: 0.0026 - val_loss: 0.0026\n",
      "Epoch 184/200\n",
      "\u001b[1m9/9\u001b[0m \u001b[32m━━━━━━━━━━━━━━━━━━━━\u001b[0m\u001b[37m\u001b[0m \u001b[1m0s\u001b[0m 8ms/step - loss: 0.0025 - val_loss: 0.0026\n",
      "Epoch 185/200\n",
      "\u001b[1m9/9\u001b[0m \u001b[32m━━━━━━━━━━━━━━━━━━━━\u001b[0m\u001b[37m\u001b[0m \u001b[1m0s\u001b[0m 7ms/step - loss: 0.0024 - val_loss: 0.0026\n",
      "Epoch 186/200\n",
      "\u001b[1m9/9\u001b[0m \u001b[32m━━━━━━━━━━━━━━━━━━━━\u001b[0m\u001b[37m\u001b[0m \u001b[1m0s\u001b[0m 7ms/step - loss: 0.0025 - val_loss: 0.0026\n",
      "Epoch 187/200\n",
      "\u001b[1m9/9\u001b[0m \u001b[32m━━━━━━━━━━━━━━━━━━━━\u001b[0m\u001b[37m\u001b[0m \u001b[1m0s\u001b[0m 28ms/step - loss: 0.0025 - val_loss: 0.0026\n",
      "Epoch 188/200\n",
      "\u001b[1m9/9\u001b[0m \u001b[32m━━━━━━━━━━━━━━━━━━━━\u001b[0m\u001b[37m\u001b[0m \u001b[1m0s\u001b[0m 7ms/step - loss: 0.0025 - val_loss: 0.0026\n",
      "Epoch 189/200\n",
      "\u001b[1m9/9\u001b[0m \u001b[32m━━━━━━━━━━━━━━━━━━━━\u001b[0m\u001b[37m\u001b[0m \u001b[1m0s\u001b[0m 7ms/step - loss: 0.0025 - val_loss: 0.0026\n",
      "Epoch 190/200\n",
      "\u001b[1m9/9\u001b[0m \u001b[32m━━━━━━━━━━━━━━━━━━━━\u001b[0m\u001b[37m\u001b[0m \u001b[1m0s\u001b[0m 7ms/step - loss: 0.0025 - val_loss: 0.0026\n",
      "Epoch 191/200\n",
      "\u001b[1m9/9\u001b[0m \u001b[32m━━━━━━━━━━━━━━━━━━━━\u001b[0m\u001b[37m\u001b[0m \u001b[1m0s\u001b[0m 7ms/step - loss: 0.0025 - val_loss: 0.0026\n",
      "Epoch 192/200\n",
      "\u001b[1m9/9\u001b[0m \u001b[32m━━━━━━━━━━━━━━━━━━━━\u001b[0m\u001b[37m\u001b[0m \u001b[1m0s\u001b[0m 7ms/step - loss: 0.0026 - val_loss: 0.0026\n",
      "Epoch 193/200\n",
      "\u001b[1m9/9\u001b[0m \u001b[32m━━━━━━━━━━━━━━━━━━━━\u001b[0m\u001b[37m\u001b[0m \u001b[1m0s\u001b[0m 8ms/step - loss: 0.0024 - val_loss: 0.0026\n",
      "Epoch 194/200\n",
      "\u001b[1m9/9\u001b[0m \u001b[32m━━━━━━━━━━━━━━━━━━━━\u001b[0m\u001b[37m\u001b[0m \u001b[1m0s\u001b[0m 7ms/step - loss: 0.0024 - val_loss: 0.0026\n",
      "Epoch 195/200\n",
      "\u001b[1m9/9\u001b[0m \u001b[32m━━━━━━━━━━━━━━━━━━━━\u001b[0m\u001b[37m\u001b[0m \u001b[1m0s\u001b[0m 7ms/step - loss: 0.0025 - val_loss: 0.0026\n",
      "Epoch 196/200\n",
      "\u001b[1m9/9\u001b[0m \u001b[32m━━━━━━━━━━━━━━━━━━━━\u001b[0m\u001b[37m\u001b[0m \u001b[1m0s\u001b[0m 9ms/step - loss: 0.0025 - val_loss: 0.0026\n",
      "Epoch 197/200\n",
      "\u001b[1m9/9\u001b[0m \u001b[32m━━━━━━━━━━━━━━━━━━━━\u001b[0m\u001b[37m\u001b[0m \u001b[1m0s\u001b[0m 8ms/step - loss: 0.0025 - val_loss: 0.0026\n",
      "Epoch 198/200\n",
      "\u001b[1m9/9\u001b[0m \u001b[32m━━━━━━━━━━━━━━━━━━━━\u001b[0m\u001b[37m\u001b[0m \u001b[1m0s\u001b[0m 7ms/step - loss: 0.0025 - val_loss: 0.0026\n",
      "Epoch 199/200\n",
      "\u001b[1m9/9\u001b[0m \u001b[32m━━━━━━━━━━━━━━━━━━━━\u001b[0m\u001b[37m\u001b[0m \u001b[1m0s\u001b[0m 7ms/step - loss: 0.0025 - val_loss: 0.0026\n",
      "Epoch 200/200\n",
      "\u001b[1m9/9\u001b[0m \u001b[32m━━━━━━━━━━━━━━━━━━━━\u001b[0m\u001b[37m\u001b[0m \u001b[1m0s\u001b[0m 7ms/step - loss: 0.0025 - val_loss: 0.0026\n"
     ]
    }
   ],
   "source": [
    "# Crear un autoencoder con tres capas de encoder y tres de decoder\n",
    "# dimensiones: input(140) -> 32 -> 16 -> 8 -> 16 -> 32 -> Output(140)\n",
    "\n",
    "\n",
    "autoencoder = Sequential()\n",
    "autoencoder.add(Input(shape=(140,)))\n",
    "autoencoder.add(Dense(32, activation=\"relu\"))\n",
    "autoencoder.add(Dense(16, activation=\"relu\"))\n",
    "autoencoder.add(Dense(8, activation=\"relu\"))\n",
    "autoencoder.add(Dense(16, activation=\"relu\"))\n",
    "autoencoder.add(Dense(32, activation=\"relu\"))\n",
    "autoencoder.add(Dense(140, activation=\"linear\"))\n",
    "\n",
    "autoencoder.summary()\n",
    "\n",
    "\n",
    "autoencoder.compile(optimizer=\"adam\", loss=\"mean_squared_error\")\n",
    "\n",
    "\n",
    "historia = autoencoder.fit(\n",
    "    x_train_1_s, \n",
    "    x_train_1_s,\n",
    "    validation_data=(x_test_1_s, x_test_1_s),\n",
    "    epochs=200,\n",
    "    batch_size=512\n",
    "    )"
   ]
  },
  {
   "cell_type": "markdown",
   "metadata": {
    "id": "RiGV9o2W39T0"
   },
   "source": [
    "### 4.5. Optimización y entrenamiento\n",
    "\n",
    "La pérdida será el error absoluto medio (_Mean Absolute Error_, MAE):\n",
    "\n",
    "$MAE = \\frac{\\sum_{i=1}^{140} |x_i - \\hat{x_i}|}{140}$\n"
   ]
  },
  {
   "cell_type": "code",
   "execution_count": 72,
   "metadata": {},
   "outputs": [
    {
     "name": "stdout",
     "output_type": "stream",
     "text": [
      "Epoch 1/100\n",
      "\u001b[1m9/9\u001b[0m \u001b[32m━━━━━━━━━━━━━━━━━━━━\u001b[0m\u001b[37m\u001b[0m \u001b[1m0s\u001b[0m 14ms/step - loss: 0.0102 - val_loss: 0.0106\n",
      "Epoch 2/100\n",
      "\u001b[1m9/9\u001b[0m \u001b[32m━━━━━━━━━━━━━━━━━━━━\u001b[0m\u001b[37m\u001b[0m \u001b[1m0s\u001b[0m 8ms/step - loss: 0.0103 - val_loss: 0.0106\n",
      "Epoch 3/100\n",
      "\u001b[1m9/9\u001b[0m \u001b[32m━━━━━━━━━━━━━━━━━━━━\u001b[0m\u001b[37m\u001b[0m \u001b[1m0s\u001b[0m 8ms/step - loss: 0.0101 - val_loss: 0.0106\n",
      "Epoch 4/100\n",
      "\u001b[1m9/9\u001b[0m \u001b[32m━━━━━━━━━━━━━━━━━━━━\u001b[0m\u001b[37m\u001b[0m \u001b[1m0s\u001b[0m 7ms/step - loss: 0.0100 - val_loss: 0.0105\n",
      "Epoch 5/100\n",
      "\u001b[1m9/9\u001b[0m \u001b[32m━━━━━━━━━━━━━━━━━━━━\u001b[0m\u001b[37m\u001b[0m \u001b[1m0s\u001b[0m 6ms/step - loss: 0.0100 - val_loss: 0.0104\n",
      "Epoch 6/100\n",
      "\u001b[1m9/9\u001b[0m \u001b[32m━━━━━━━━━━━━━━━━━━━━\u001b[0m\u001b[37m\u001b[0m \u001b[1m0s\u001b[0m 7ms/step - loss: 0.0100 - val_loss: 0.0103\n",
      "Epoch 7/100\n",
      "\u001b[1m9/9\u001b[0m \u001b[32m━━━━━━━━━━━━━━━━━━━━\u001b[0m\u001b[37m\u001b[0m \u001b[1m0s\u001b[0m 18ms/step - loss: 0.0097 - val_loss: 0.0102\n",
      "Epoch 8/100\n",
      "\u001b[1m9/9\u001b[0m \u001b[32m━━━━━━━━━━━━━━━━━━━━\u001b[0m\u001b[37m\u001b[0m \u001b[1m0s\u001b[0m 11ms/step - loss: 0.0099 - val_loss: 0.0099\n",
      "Epoch 9/100\n",
      "\u001b[1m9/9\u001b[0m \u001b[32m━━━━━━━━━━━━━━━━━━━━\u001b[0m\u001b[37m\u001b[0m \u001b[1m0s\u001b[0m 11ms/step - loss: 0.0095 - val_loss: 0.0097\n",
      "Epoch 10/100\n",
      "\u001b[1m9/9\u001b[0m \u001b[32m━━━━━━━━━━━━━━━━━━━━\u001b[0m\u001b[37m\u001b[0m \u001b[1m0s\u001b[0m 10ms/step - loss: 0.0092 - val_loss: 0.0093\n",
      "Epoch 11/100\n",
      "\u001b[1m9/9\u001b[0m \u001b[32m━━━━━━━━━━━━━━━━━━━━\u001b[0m\u001b[37m\u001b[0m \u001b[1m0s\u001b[0m 8ms/step - loss: 0.0086 - val_loss: 0.0089\n",
      "Epoch 12/100\n",
      "\u001b[1m9/9\u001b[0m \u001b[32m━━━━━━━━━━━━━━━━━━━━\u001b[0m\u001b[37m\u001b[0m \u001b[1m0s\u001b[0m 8ms/step - loss: 0.0082 - val_loss: 0.0084\n",
      "Epoch 13/100\n",
      "\u001b[1m9/9\u001b[0m \u001b[32m━━━━━━━━━━━━━━━━━━━━\u001b[0m\u001b[37m\u001b[0m \u001b[1m0s\u001b[0m 8ms/step - loss: 0.0079 - val_loss: 0.0080\n",
      "Epoch 14/100\n",
      "\u001b[1m9/9\u001b[0m \u001b[32m━━━━━━━━━━━━━━━━━━━━\u001b[0m\u001b[37m\u001b[0m \u001b[1m0s\u001b[0m 8ms/step - loss: 0.0075 - val_loss: 0.0077\n",
      "Epoch 15/100\n",
      "\u001b[1m9/9\u001b[0m \u001b[32m━━━━━━━━━━━━━━━━━━━━\u001b[0m\u001b[37m\u001b[0m \u001b[1m0s\u001b[0m 9ms/step - loss: 0.0071 - val_loss: 0.0074\n",
      "Epoch 16/100\n",
      "\u001b[1m9/9\u001b[0m \u001b[32m━━━━━━━━━━━━━━━━━━━━\u001b[0m\u001b[37m\u001b[0m \u001b[1m0s\u001b[0m 14ms/step - loss: 0.0069 - val_loss: 0.0072\n",
      "Epoch 17/100\n",
      "\u001b[1m9/9\u001b[0m \u001b[32m━━━━━━━━━━━━━━━━━━━━\u001b[0m\u001b[37m\u001b[0m \u001b[1m0s\u001b[0m 8ms/step - loss: 0.0068 - val_loss: 0.0070\n",
      "Epoch 18/100\n",
      "\u001b[1m9/9\u001b[0m \u001b[32m━━━━━━━━━━━━━━━━━━━━\u001b[0m\u001b[37m\u001b[0m \u001b[1m0s\u001b[0m 9ms/step - loss: 0.0065 - val_loss: 0.0069\n",
      "Epoch 19/100\n",
      "\u001b[1m9/9\u001b[0m \u001b[32m━━━━━━━━━━━━━━━━━━━━\u001b[0m\u001b[37m\u001b[0m \u001b[1m0s\u001b[0m 8ms/step - loss: 0.0064 - val_loss: 0.0068\n",
      "Epoch 20/100\n",
      "\u001b[1m9/9\u001b[0m \u001b[32m━━━━━━━━━━━━━━━━━━━━\u001b[0m\u001b[37m\u001b[0m \u001b[1m0s\u001b[0m 12ms/step - loss: 0.0063 - val_loss: 0.0067\n",
      "Epoch 21/100\n",
      "\u001b[1m9/9\u001b[0m \u001b[32m━━━━━━━━━━━━━━━━━━━━\u001b[0m\u001b[37m\u001b[0m \u001b[1m0s\u001b[0m 8ms/step - loss: 0.0063 - val_loss: 0.0066\n",
      "Epoch 22/100\n",
      "\u001b[1m9/9\u001b[0m \u001b[32m━━━━━━━━━━━━━━━━━━━━\u001b[0m\u001b[37m\u001b[0m \u001b[1m0s\u001b[0m 8ms/step - loss: 0.0062 - val_loss: 0.0065\n",
      "Epoch 23/100\n",
      "\u001b[1m9/9\u001b[0m \u001b[32m━━━━━━━━━━━━━━━━━━━━\u001b[0m\u001b[37m\u001b[0m \u001b[1m0s\u001b[0m 10ms/step - loss: 0.0061 - val_loss: 0.0064\n",
      "Epoch 24/100\n",
      "\u001b[1m9/9\u001b[0m \u001b[32m━━━━━━━━━━━━━━━━━━━━\u001b[0m\u001b[37m\u001b[0m \u001b[1m0s\u001b[0m 8ms/step - loss: 0.0060 - val_loss: 0.0063\n",
      "Epoch 25/100\n",
      "\u001b[1m9/9\u001b[0m \u001b[32m━━━━━━━━━━━━━━━━━━━━\u001b[0m\u001b[37m\u001b[0m \u001b[1m0s\u001b[0m 9ms/step - loss: 0.0059 - val_loss: 0.0062\n",
      "Epoch 26/100\n",
      "\u001b[1m9/9\u001b[0m \u001b[32m━━━━━━━━━━━━━━━━━━━━\u001b[0m\u001b[37m\u001b[0m \u001b[1m0s\u001b[0m 10ms/step - loss: 0.0058 - val_loss: 0.0061\n",
      "Epoch 27/100\n",
      "\u001b[1m9/9\u001b[0m \u001b[32m━━━━━━━━━━━━━━━━━━━━\u001b[0m\u001b[37m\u001b[0m \u001b[1m0s\u001b[0m 8ms/step - loss: 0.0056 - val_loss: 0.0060\n",
      "Epoch 28/100\n",
      "\u001b[1m9/9\u001b[0m \u001b[32m━━━━━━━━━━━━━━━━━━━━\u001b[0m\u001b[37m\u001b[0m \u001b[1m0s\u001b[0m 9ms/step - loss: 0.0057 - val_loss: 0.0059\n",
      "Epoch 29/100\n",
      "\u001b[1m9/9\u001b[0m \u001b[32m━━━━━━━━━━━━━━━━━━━━\u001b[0m\u001b[37m\u001b[0m \u001b[1m0s\u001b[0m 9ms/step - loss: 0.0055 - val_loss: 0.0059\n",
      "Epoch 30/100\n",
      "\u001b[1m9/9\u001b[0m \u001b[32m━━━━━━━━━━━━━━━━━━━━\u001b[0m\u001b[37m\u001b[0m \u001b[1m0s\u001b[0m 10ms/step - loss: 0.0055 - val_loss: 0.0058\n",
      "Epoch 31/100\n",
      "\u001b[1m9/9\u001b[0m \u001b[32m━━━━━━━━━━━━━━━━━━━━\u001b[0m\u001b[37m\u001b[0m \u001b[1m0s\u001b[0m 10ms/step - loss: 0.0054 - val_loss: 0.0057\n",
      "Epoch 32/100\n",
      "\u001b[1m9/9\u001b[0m \u001b[32m━━━━━━━━━━━━━━━━━━━━\u001b[0m\u001b[37m\u001b[0m \u001b[1m0s\u001b[0m 11ms/step - loss: 0.0054 - val_loss: 0.0057\n",
      "Epoch 33/100\n",
      "\u001b[1m9/9\u001b[0m \u001b[32m━━━━━━━━━━━━━━━━━━━━\u001b[0m\u001b[37m\u001b[0m \u001b[1m0s\u001b[0m 10ms/step - loss: 0.0054 - val_loss: 0.0056\n",
      "Epoch 34/100\n",
      "\u001b[1m9/9\u001b[0m \u001b[32m━━━━━━━━━━━━━━━━━━━━\u001b[0m\u001b[37m\u001b[0m \u001b[1m0s\u001b[0m 17ms/step - loss: 0.0053 - val_loss: 0.0056\n",
      "Epoch 35/100\n",
      "\u001b[1m9/9\u001b[0m \u001b[32m━━━━━━━━━━━━━━━━━━━━\u001b[0m\u001b[37m\u001b[0m \u001b[1m0s\u001b[0m 13ms/step - loss: 0.0052 - val_loss: 0.0055\n",
      "Epoch 36/100\n",
      "\u001b[1m9/9\u001b[0m \u001b[32m━━━━━━━━━━━━━━━━━━━━\u001b[0m\u001b[37m\u001b[0m \u001b[1m0s\u001b[0m 14ms/step - loss: 0.0053 - val_loss: 0.0055\n",
      "Epoch 37/100\n",
      "\u001b[1m9/9\u001b[0m \u001b[32m━━━━━━━━━━━━━━━━━━━━\u001b[0m\u001b[37m\u001b[0m \u001b[1m0s\u001b[0m 11ms/step - loss: 0.0050 - val_loss: 0.0054\n",
      "Epoch 38/100\n",
      "\u001b[1m9/9\u001b[0m \u001b[32m━━━━━━━━━━━━━━━━━━━━\u001b[0m\u001b[37m\u001b[0m \u001b[1m0s\u001b[0m 10ms/step - loss: 0.0051 - val_loss: 0.0054\n",
      "Epoch 39/100\n",
      "\u001b[1m9/9\u001b[0m \u001b[32m━━━━━━━━━━━━━━━━━━━━\u001b[0m\u001b[37m\u001b[0m \u001b[1m0s\u001b[0m 10ms/step - loss: 0.0051 - val_loss: 0.0053\n",
      "Epoch 40/100\n",
      "\u001b[1m9/9\u001b[0m \u001b[32m━━━━━━━━━━━━━━━━━━━━\u001b[0m\u001b[37m\u001b[0m \u001b[1m0s\u001b[0m 10ms/step - loss: 0.0050 - val_loss: 0.0053\n",
      "Epoch 41/100\n",
      "\u001b[1m9/9\u001b[0m \u001b[32m━━━━━━━━━━━━━━━━━━━━\u001b[0m\u001b[37m\u001b[0m \u001b[1m0s\u001b[0m 10ms/step - loss: 0.0050 - val_loss: 0.0052\n",
      "Epoch 42/100\n",
      "\u001b[1m9/9\u001b[0m \u001b[32m━━━━━━━━━━━━━━━━━━━━\u001b[0m\u001b[37m\u001b[0m \u001b[1m0s\u001b[0m 9ms/step - loss: 0.0049 - val_loss: 0.0051\n",
      "Epoch 43/100\n",
      "\u001b[1m9/9\u001b[0m \u001b[32m━━━━━━━━━━━━━━━━━━━━\u001b[0m\u001b[37m\u001b[0m \u001b[1m0s\u001b[0m 9ms/step - loss: 0.0049 - val_loss: 0.0051\n",
      "Epoch 44/100\n",
      "\u001b[1m9/9\u001b[0m \u001b[32m━━━━━━━━━━━━━━━━━━━━\u001b[0m\u001b[37m\u001b[0m \u001b[1m0s\u001b[0m 8ms/step - loss: 0.0048 - val_loss: 0.0050\n",
      "Epoch 45/100\n",
      "\u001b[1m9/9\u001b[0m \u001b[32m━━━━━━━━━━━━━━━━━━━━\u001b[0m\u001b[37m\u001b[0m \u001b[1m0s\u001b[0m 9ms/step - loss: 0.0047 - val_loss: 0.0050\n",
      "Epoch 46/100\n",
      "\u001b[1m9/9\u001b[0m \u001b[32m━━━━━━━━━━━━━━━━━━━━\u001b[0m\u001b[37m\u001b[0m \u001b[1m0s\u001b[0m 9ms/step - loss: 0.0046 - val_loss: 0.0049\n",
      "Epoch 47/100\n",
      "\u001b[1m9/9\u001b[0m \u001b[32m━━━━━━━━━━━━━━━━━━━━\u001b[0m\u001b[37m\u001b[0m \u001b[1m0s\u001b[0m 9ms/step - loss: 0.0047 - val_loss: 0.0049\n",
      "Epoch 48/100\n",
      "\u001b[1m9/9\u001b[0m \u001b[32m━━━━━━━━━━━━━━━━━━━━\u001b[0m\u001b[37m\u001b[0m \u001b[1m0s\u001b[0m 8ms/step - loss: 0.0047 - val_loss: 0.0049\n",
      "Epoch 49/100\n",
      "\u001b[1m9/9\u001b[0m \u001b[32m━━━━━━━━━━━━━━━━━━━━\u001b[0m\u001b[37m\u001b[0m \u001b[1m0s\u001b[0m 8ms/step - loss: 0.0046 - val_loss: 0.0048\n",
      "Epoch 50/100\n",
      "\u001b[1m9/9\u001b[0m \u001b[32m━━━━━━━━━━━━━━━━━━━━\u001b[0m\u001b[37m\u001b[0m \u001b[1m0s\u001b[0m 9ms/step - loss: 0.0045 - val_loss: 0.0048\n",
      "Epoch 51/100\n",
      "\u001b[1m9/9\u001b[0m \u001b[32m━━━━━━━━━━━━━━━━━━━━\u001b[0m\u001b[37m\u001b[0m \u001b[1m0s\u001b[0m 8ms/step - loss: 0.0044 - val_loss: 0.0048\n",
      "Epoch 52/100\n",
      "\u001b[1m9/9\u001b[0m \u001b[32m━━━━━━━━━━━━━━━━━━━━\u001b[0m\u001b[37m\u001b[0m \u001b[1m0s\u001b[0m 9ms/step - loss: 0.0045 - val_loss: 0.0047\n",
      "Epoch 53/100\n",
      "\u001b[1m9/9\u001b[0m \u001b[32m━━━━━━━━━━━━━━━━━━━━\u001b[0m\u001b[37m\u001b[0m \u001b[1m0s\u001b[0m 8ms/step - loss: 0.0045 - val_loss: 0.0047\n",
      "Epoch 54/100\n",
      "\u001b[1m9/9\u001b[0m \u001b[32m━━━━━━━━━━━━━━━━━━━━\u001b[0m\u001b[37m\u001b[0m \u001b[1m0s\u001b[0m 8ms/step - loss: 0.0044 - val_loss: 0.0047\n",
      "Epoch 55/100\n",
      "\u001b[1m9/9\u001b[0m \u001b[32m━━━━━━━━━━━━━━━━━━━━\u001b[0m\u001b[37m\u001b[0m \u001b[1m0s\u001b[0m 14ms/step - loss: 0.0043 - val_loss: 0.0047\n",
      "Epoch 56/100\n",
      "\u001b[1m9/9\u001b[0m \u001b[32m━━━━━━━━━━━━━━━━━━━━\u001b[0m\u001b[37m\u001b[0m \u001b[1m0s\u001b[0m 9ms/step - loss: 0.0044 - val_loss: 0.0046\n",
      "Epoch 57/100\n",
      "\u001b[1m9/9\u001b[0m \u001b[32m━━━━━━━━━━━━━━━━━━━━\u001b[0m\u001b[37m\u001b[0m \u001b[1m0s\u001b[0m 7ms/step - loss: 0.0043 - val_loss: 0.0046\n",
      "Epoch 58/100\n",
      "\u001b[1m9/9\u001b[0m \u001b[32m━━━━━━━━━━━━━━━━━━━━\u001b[0m\u001b[37m\u001b[0m \u001b[1m0s\u001b[0m 8ms/step - loss: 0.0043 - val_loss: 0.0046\n",
      "Epoch 59/100\n",
      "\u001b[1m9/9\u001b[0m \u001b[32m━━━━━━━━━━━━━━━━━━━━\u001b[0m\u001b[37m\u001b[0m \u001b[1m0s\u001b[0m 8ms/step - loss: 0.0043 - val_loss: 0.0045\n",
      "Epoch 60/100\n",
      "\u001b[1m9/9\u001b[0m \u001b[32m━━━━━━━━━━━━━━━━━━━━\u001b[0m\u001b[37m\u001b[0m \u001b[1m0s\u001b[0m 9ms/step - loss: 0.0042 - val_loss: 0.0045\n",
      "Epoch 61/100\n",
      "\u001b[1m9/9\u001b[0m \u001b[32m━━━━━━━━━━━━━━━━━━━━\u001b[0m\u001b[37m\u001b[0m \u001b[1m0s\u001b[0m 8ms/step - loss: 0.0043 - val_loss: 0.0045\n",
      "Epoch 62/100\n",
      "\u001b[1m9/9\u001b[0m \u001b[32m━━━━━━━━━━━━━━━━━━━━\u001b[0m\u001b[37m\u001b[0m \u001b[1m0s\u001b[0m 8ms/step - loss: 0.0042 - val_loss: 0.0045\n",
      "Epoch 63/100\n",
      "\u001b[1m9/9\u001b[0m \u001b[32m━━━━━━━━━━━━━━━━━━━━\u001b[0m\u001b[37m\u001b[0m \u001b[1m0s\u001b[0m 8ms/step - loss: 0.0042 - val_loss: 0.0044\n",
      "Epoch 64/100\n",
      "\u001b[1m9/9\u001b[0m \u001b[32m━━━━━━━━━━━━━━━━━━━━\u001b[0m\u001b[37m\u001b[0m \u001b[1m0s\u001b[0m 8ms/step - loss: 0.0042 - val_loss: 0.0044\n",
      "Epoch 65/100\n",
      "\u001b[1m9/9\u001b[0m \u001b[32m━━━━━━━━━━━━━━━━━━━━\u001b[0m\u001b[37m\u001b[0m \u001b[1m0s\u001b[0m 8ms/step - loss: 0.0041 - val_loss: 0.0044\n",
      "Epoch 66/100\n",
      "\u001b[1m9/9\u001b[0m \u001b[32m━━━━━━━━━━━━━━━━━━━━\u001b[0m\u001b[37m\u001b[0m \u001b[1m0s\u001b[0m 8ms/step - loss: 0.0041 - val_loss: 0.0043\n",
      "Epoch 67/100\n",
      "\u001b[1m9/9\u001b[0m \u001b[32m━━━━━━━━━━━━━━━━━━━━\u001b[0m\u001b[37m\u001b[0m \u001b[1m0s\u001b[0m 8ms/step - loss: 0.0039 - val_loss: 0.0043\n",
      "Epoch 68/100\n",
      "\u001b[1m9/9\u001b[0m \u001b[32m━━━━━━━━━━━━━━━━━━━━\u001b[0m\u001b[37m\u001b[0m \u001b[1m0s\u001b[0m 8ms/step - loss: 0.0041 - val_loss: 0.0042\n",
      "Epoch 69/100\n",
      "\u001b[1m9/9\u001b[0m \u001b[32m━━━━━━━━━━━━━━━━━━━━\u001b[0m\u001b[37m\u001b[0m \u001b[1m0s\u001b[0m 9ms/step - loss: 0.0040 - val_loss: 0.0042\n",
      "Epoch 70/100\n",
      "\u001b[1m9/9\u001b[0m \u001b[32m━━━━━━━━━━━━━━━━━━━━\u001b[0m\u001b[37m\u001b[0m \u001b[1m0s\u001b[0m 8ms/step - loss: 0.0039 - val_loss: 0.0042\n",
      "Epoch 71/100\n",
      "\u001b[1m9/9\u001b[0m \u001b[32m━━━━━━━━━━━━━━━━━━━━\u001b[0m\u001b[37m\u001b[0m \u001b[1m0s\u001b[0m 8ms/step - loss: 0.0039 - val_loss: 0.0041\n",
      "Epoch 72/100\n",
      "\u001b[1m9/9\u001b[0m \u001b[32m━━━━━━━━━━━━━━━━━━━━\u001b[0m\u001b[37m\u001b[0m \u001b[1m0s\u001b[0m 8ms/step - loss: 0.0039 - val_loss: 0.0041\n",
      "Epoch 73/100\n",
      "\u001b[1m9/9\u001b[0m \u001b[32m━━━━━━━━━━━━━━━━━━━━\u001b[0m\u001b[37m\u001b[0m \u001b[1m0s\u001b[0m 8ms/step - loss: 0.0038 - val_loss: 0.0040\n",
      "Epoch 74/100\n",
      "\u001b[1m9/9\u001b[0m \u001b[32m━━━━━━━━━━━━━━━━━━━━\u001b[0m\u001b[37m\u001b[0m \u001b[1m0s\u001b[0m 8ms/step - loss: 0.0038 - val_loss: 0.0040\n",
      "Epoch 75/100\n",
      "\u001b[1m9/9\u001b[0m \u001b[32m━━━━━━━━━━━━━━━━━━━━\u001b[0m\u001b[37m\u001b[0m \u001b[1m0s\u001b[0m 8ms/step - loss: 0.0038 - val_loss: 0.0039\n",
      "Epoch 76/100\n",
      "\u001b[1m9/9\u001b[0m \u001b[32m━━━━━━━━━━━━━━━━━━━━\u001b[0m\u001b[37m\u001b[0m \u001b[1m0s\u001b[0m 9ms/step - loss: 0.0037 - val_loss: 0.0039\n",
      "Epoch 77/100\n",
      "\u001b[1m9/9\u001b[0m \u001b[32m━━━━━━━━━━━━━━━━━━━━\u001b[0m\u001b[37m\u001b[0m \u001b[1m0s\u001b[0m 8ms/step - loss: 0.0036 - val_loss: 0.0038\n",
      "Epoch 78/100\n",
      "\u001b[1m9/9\u001b[0m \u001b[32m━━━━━━━━━━━━━━━━━━━━\u001b[0m\u001b[37m\u001b[0m \u001b[1m0s\u001b[0m 7ms/step - loss: 0.0035 - val_loss: 0.0038\n",
      "Epoch 79/100\n",
      "\u001b[1m9/9\u001b[0m \u001b[32m━━━━━━━━━━━━━━━━━━━━\u001b[0m\u001b[37m\u001b[0m \u001b[1m0s\u001b[0m 8ms/step - loss: 0.0035 - val_loss: 0.0037\n",
      "Epoch 80/100\n",
      "\u001b[1m9/9\u001b[0m \u001b[32m━━━━━━━━━━━━━━━━━━━━\u001b[0m\u001b[37m\u001b[0m \u001b[1m0s\u001b[0m 8ms/step - loss: 0.0035 - val_loss: 0.0037\n",
      "Epoch 81/100\n",
      "\u001b[1m9/9\u001b[0m \u001b[32m━━━━━━━━━━━━━━━━━━━━\u001b[0m\u001b[37m\u001b[0m \u001b[1m0s\u001b[0m 8ms/step - loss: 0.0035 - val_loss: 0.0036\n",
      "Epoch 82/100\n",
      "\u001b[1m9/9\u001b[0m \u001b[32m━━━━━━━━━━━━━━━━━━━━\u001b[0m\u001b[37m\u001b[0m \u001b[1m0s\u001b[0m 8ms/step - loss: 0.0034 - val_loss: 0.0035\n",
      "Epoch 83/100\n",
      "\u001b[1m9/9\u001b[0m \u001b[32m━━━━━━━━━━━━━━━━━━━━\u001b[0m\u001b[37m\u001b[0m \u001b[1m0s\u001b[0m 8ms/step - loss: 0.0033 - val_loss: 0.0035\n",
      "Epoch 84/100\n",
      "\u001b[1m9/9\u001b[0m \u001b[32m━━━━━━━━━━━━━━━━━━━━\u001b[0m\u001b[37m\u001b[0m \u001b[1m0s\u001b[0m 9ms/step - loss: 0.0033 - val_loss: 0.0035\n",
      "Epoch 85/100\n",
      "\u001b[1m9/9\u001b[0m \u001b[32m━━━━━━━━━━━━━━━━━━━━\u001b[0m\u001b[37m\u001b[0m \u001b[1m0s\u001b[0m 8ms/step - loss: 0.0033 - val_loss: 0.0034\n",
      "Epoch 86/100\n",
      "\u001b[1m9/9\u001b[0m \u001b[32m━━━━━━━━━━━━━━━━━━━━\u001b[0m\u001b[37m\u001b[0m \u001b[1m0s\u001b[0m 8ms/step - loss: 0.0032 - val_loss: 0.0034\n",
      "Epoch 87/100\n",
      "\u001b[1m9/9\u001b[0m \u001b[32m━━━━━━━━━━━━━━━━━━━━\u001b[0m\u001b[37m\u001b[0m \u001b[1m0s\u001b[0m 8ms/step - loss: 0.0033 - val_loss: 0.0033\n",
      "Epoch 88/100\n",
      "\u001b[1m9/9\u001b[0m \u001b[32m━━━━━━━━━━━━━━━━━━━━\u001b[0m\u001b[37m\u001b[0m \u001b[1m0s\u001b[0m 9ms/step - loss: 0.0032 - val_loss: 0.0033\n",
      "Epoch 89/100\n",
      "\u001b[1m9/9\u001b[0m \u001b[32m━━━━━━━━━━━━━━━━━━━━\u001b[0m\u001b[37m\u001b[0m \u001b[1m0s\u001b[0m 9ms/step - loss: 0.0032 - val_loss: 0.0033\n",
      "Epoch 90/100\n",
      "\u001b[1m9/9\u001b[0m \u001b[32m━━━━━━━━━━━━━━━━━━━━\u001b[0m\u001b[37m\u001b[0m \u001b[1m0s\u001b[0m 10ms/step - loss: 0.0031 - val_loss: 0.0033\n",
      "Epoch 91/100\n",
      "\u001b[1m9/9\u001b[0m \u001b[32m━━━━━━━━━━━━━━━━━━━━\u001b[0m\u001b[37m\u001b[0m \u001b[1m0s\u001b[0m 9ms/step - loss: 0.0031 - val_loss: 0.0032\n",
      "Epoch 92/100\n",
      "\u001b[1m9/9\u001b[0m \u001b[32m━━━━━━━━━━━━━━━━━━━━\u001b[0m\u001b[37m\u001b[0m \u001b[1m0s\u001b[0m 9ms/step - loss: 0.0031 - val_loss: 0.0032\n",
      "Epoch 93/100\n",
      "\u001b[1m9/9\u001b[0m \u001b[32m━━━━━━━━━━━━━━━━━━━━\u001b[0m\u001b[37m\u001b[0m \u001b[1m0s\u001b[0m 9ms/step - loss: 0.0031 - val_loss: 0.0032\n",
      "Epoch 94/100\n",
      "\u001b[1m9/9\u001b[0m \u001b[32m━━━━━━━━━━━━━━━━━━━━\u001b[0m\u001b[37m\u001b[0m \u001b[1m0s\u001b[0m 8ms/step - loss: 0.0030 - val_loss: 0.0032\n",
      "Epoch 95/100\n",
      "\u001b[1m9/9\u001b[0m \u001b[32m━━━━━━━━━━━━━━━━━━━━\u001b[0m\u001b[37m\u001b[0m \u001b[1m0s\u001b[0m 9ms/step - loss: 0.0030 - val_loss: 0.0032\n",
      "Epoch 96/100\n",
      "\u001b[1m9/9\u001b[0m \u001b[32m━━━━━━━━━━━━━━━━━━━━\u001b[0m\u001b[37m\u001b[0m \u001b[1m0s\u001b[0m 12ms/step - loss: 0.0031 - val_loss: 0.0031\n",
      "Epoch 97/100\n",
      "\u001b[1m9/9\u001b[0m \u001b[32m━━━━━━━━━━━━━━━━━━━━\u001b[0m\u001b[37m\u001b[0m \u001b[1m0s\u001b[0m 8ms/step - loss: 0.0030 - val_loss: 0.0031\n",
      "Epoch 98/100\n",
      "\u001b[1m9/9\u001b[0m \u001b[32m━━━━━━━━━━━━━━━━━━━━\u001b[0m\u001b[37m\u001b[0m \u001b[1m0s\u001b[0m 8ms/step - loss: 0.0030 - val_loss: 0.0031\n",
      "Epoch 99/100\n",
      "\u001b[1m9/9\u001b[0m \u001b[32m━━━━━━━━━━━━━━━━━━━━\u001b[0m\u001b[37m\u001b[0m \u001b[1m0s\u001b[0m 8ms/step - loss: 0.0031 - val_loss: 0.0031\n",
      "Epoch 100/100\n",
      "\u001b[1m9/9\u001b[0m \u001b[32m━━━━━━━━━━━━━━━━━━━━\u001b[0m\u001b[37m\u001b[0m \u001b[1m0s\u001b[0m 9ms/step - loss: 0.0029 - val_loss: 0.0031\n"
     ]
    }
   ],
   "source": [
    "historia = autoencoder.fit(\n",
    "    x_train_1_s, \n",
    "    x_train_1_s,\n",
    "    validation_data=(x_test_1_s, x_test_1_s),\n",
    "    epochs=100,\n",
    "    batch_size=512\n",
    "    )"
   ]
  },
  {
   "cell_type": "code",
   "execution_count": 45,
   "metadata": {
    "colab": {
     "base_uri": "https://localhost:8080/"
    },
    "executionInfo": {
     "elapsed": 4432,
     "status": "ok",
     "timestamp": 1624651295088,
     "user": {
      "displayName": "Miguel Sotaquirá",
      "photoUrl": "https://lh3.googleusercontent.com/a-/AOh14Giuk6OGsE84qo69ZTgJj4B328D6GfU4etVY0q9AUg=s64",
      "userId": "08038952820764930757"
     },
     "user_tz": 300
    },
    "id": "gHMDVi3YgyDP",
    "outputId": "4fdcf9cf-b961-4fd9-9412-f3b987b5f13d"
   },
   "outputs": [
    {
     "name": "stdout",
     "output_type": "stream",
     "text": [
      "Epoch 1/20\n"
     ]
    },
    {
     "name": "stdout",
     "output_type": "stream",
     "text": [
      "\u001b[1m9/9\u001b[0m \u001b[32m━━━━━━━━━━━━━━━━━━━━\u001b[0m\u001b[37m\u001b[0m \u001b[1m2s\u001b[0m 31ms/step - loss: 0.1271 - val_loss: 0.1261\n",
      "Epoch 2/20\n",
      "\u001b[1m9/9\u001b[0m \u001b[32m━━━━━━━━━━━━━━━━━━━━\u001b[0m\u001b[37m\u001b[0m \u001b[1m0s\u001b[0m 6ms/step - loss: 0.1236 - val_loss: 0.1201\n",
      "Epoch 3/20\n",
      "\u001b[1m9/9\u001b[0m \u001b[32m━━━━━━━━━━━━━━━━━━━━\u001b[0m\u001b[37m\u001b[0m \u001b[1m0s\u001b[0m 6ms/step - loss: 0.1166 - val_loss: 0.1093\n",
      "Epoch 4/20\n",
      "\u001b[1m9/9\u001b[0m \u001b[32m━━━━━━━━━━━━━━━━━━━━\u001b[0m\u001b[37m\u001b[0m \u001b[1m0s\u001b[0m 6ms/step - loss: 0.1053 - val_loss: 0.0980\n",
      "Epoch 5/20\n",
      "\u001b[1m9/9\u001b[0m \u001b[32m━━━━━━━━━━━━━━━━━━━━\u001b[0m\u001b[37m\u001b[0m \u001b[1m0s\u001b[0m 6ms/step - loss: 0.0949 - val_loss: 0.0882\n",
      "Epoch 6/20\n",
      "\u001b[1m9/9\u001b[0m \u001b[32m━━━━━━━━━━━━━━━━━━━━\u001b[0m\u001b[37m\u001b[0m \u001b[1m0s\u001b[0m 6ms/step - loss: 0.0848 - val_loss: 0.0808\n",
      "Epoch 7/20\n",
      "\u001b[1m9/9\u001b[0m \u001b[32m━━━━━━━━━━━━━━━━━━━━\u001b[0m\u001b[37m\u001b[0m \u001b[1m0s\u001b[0m 6ms/step - loss: 0.0782 - val_loss: 0.0752\n",
      "Epoch 8/20\n",
      "\u001b[1m9/9\u001b[0m \u001b[32m━━━━━━━━━━━━━━━━━━━━\u001b[0m\u001b[37m\u001b[0m \u001b[1m0s\u001b[0m 7ms/step - loss: 0.0728 - val_loss: 0.0714\n",
      "Epoch 9/20\n",
      "\u001b[1m9/9\u001b[0m \u001b[32m━━━━━━━━━━━━━━━━━━━━\u001b[0m\u001b[37m\u001b[0m \u001b[1m0s\u001b[0m 6ms/step - loss: 0.0696 - val_loss: 0.0687\n",
      "Epoch 10/20\n",
      "\u001b[1m9/9\u001b[0m \u001b[32m━━━━━━━━━━━━━━━━━━━━\u001b[0m\u001b[37m\u001b[0m \u001b[1m0s\u001b[0m 6ms/step - loss: 0.0675 - val_loss: 0.0670\n",
      "Epoch 11/20\n",
      "\u001b[1m9/9\u001b[0m \u001b[32m━━━━━━━━━━━━━━━━━━━━\u001b[0m\u001b[37m\u001b[0m \u001b[1m0s\u001b[0m 6ms/step - loss: 0.0659 - val_loss: 0.0661\n",
      "Epoch 12/20\n",
      "\u001b[1m9/9\u001b[0m \u001b[32m━━━━━━━━━━━━━━━━━━━━\u001b[0m\u001b[37m\u001b[0m \u001b[1m0s\u001b[0m 6ms/step - loss: 0.0641 - val_loss: 0.0656\n",
      "Epoch 13/20\n",
      "\u001b[1m9/9\u001b[0m \u001b[32m━━━━━━━━━━━━━━━━━━━━\u001b[0m\u001b[37m\u001b[0m \u001b[1m0s\u001b[0m 6ms/step - loss: 0.0645 - val_loss: 0.0652\n",
      "Epoch 14/20\n",
      "\u001b[1m9/9\u001b[0m \u001b[32m━━━━━━━━━━━━━━━━━━━━\u001b[0m\u001b[37m\u001b[0m \u001b[1m0s\u001b[0m 6ms/step - loss: 0.0639 - val_loss: 0.0644\n",
      "Epoch 15/20\n",
      "\u001b[1m9/9\u001b[0m \u001b[32m━━━━━━━━━━━━━━━━━━━━\u001b[0m\u001b[37m\u001b[0m \u001b[1m0s\u001b[0m 6ms/step - loss: 0.0629 - val_loss: 0.0629\n",
      "Epoch 16/20\n",
      "\u001b[1m9/9\u001b[0m \u001b[32m━━━━━━━━━━━━━━━━━━━━\u001b[0m\u001b[37m\u001b[0m \u001b[1m0s\u001b[0m 6ms/step - loss: 0.0610 - val_loss: 0.0608\n",
      "Epoch 17/20\n",
      "\u001b[1m9/9\u001b[0m \u001b[32m━━━━━━━━━━━━━━━━━━━━\u001b[0m\u001b[37m\u001b[0m \u001b[1m0s\u001b[0m 7ms/step - loss: 0.0588 - val_loss: 0.0590\n",
      "Epoch 18/20\n",
      "\u001b[1m9/9\u001b[0m \u001b[32m━━━━━━━━━━━━━━━━━━━━\u001b[0m\u001b[37m\u001b[0m \u001b[1m0s\u001b[0m 7ms/step - loss: 0.0576 - val_loss: 0.0577\n",
      "Epoch 19/20\n",
      "\u001b[1m9/9\u001b[0m \u001b[32m━━━━━━━━━━━━━━━━━━━━\u001b[0m\u001b[37m\u001b[0m \u001b[1m0s\u001b[0m 7ms/step - loss: 0.0563 - val_loss: 0.0567\n",
      "Epoch 20/20\n",
      "\u001b[1m9/9\u001b[0m \u001b[32m━━━━━━━━━━━━━━━━━━━━\u001b[0m\u001b[37m\u001b[0m \u001b[1m0s\u001b[0m 8ms/step - loss: 0.0553 - val_loss: 0.0557\n"
     ]
    }
   ],
   "source": [
    "# Compilar el modelo el optimizador (adam) y la función de pérdida (mae)\n",
    "\n",
    "# Entrenar el modelo: epochs=20, batch_size=512\n"
   ]
  },
  {
   "cell_type": "code",
   "execution_count": 74,
   "metadata": {},
   "outputs": [
    {
     "data": {
      "text/plain": [
       "<matplotlib.legend.Legend at 0x147d616d0>"
      ]
     },
     "execution_count": 74,
     "metadata": {},
     "output_type": "execute_result"
    },
    {
     "data": {
      "image/png": "[encoded data removed]",
      "text/plain": [
       "<Figure size 640x480 with 1 Axes>"
      ]
     },
     "metadata": {},
     "output_type": "display_data"
    }
   ],
   "source": [
    "plt.plot(historia.history[\"loss\"], label=\"Pérdida set entrenamiento\")\n",
    "plt.plot(historia.history[\"val_loss\"], label=\"Pérdida set prueba\")\n",
    "plt.legend()"
   ]
  },
  {
   "cell_type": "code",
   "execution_count": 71,
   "metadata": {
    "colab": {
     "base_uri": "https://localhost:8080/",
     "height": 283
    },
    "executionInfo": {
     "elapsed": 483,
     "status": "ok",
     "timestamp": 1624651384384,
     "user": {
      "displayName": "Miguel Sotaquirá",
      "photoUrl": "https://lh3.googleusercontent.com/a-/AOh14Giuk6OGsE84qo69ZTgJj4B328D6GfU4etVY0q9AUg=s64",
      "userId": "08038952820764930757"
     },
     "user_tz": 300
    },
    "id": "CQfvUAQIidoC",
    "outputId": "c4a9e86e-5b8e-48cd-e4ef-b284de066b2c"
   },
   "outputs": [
    {
     "data": {
      "text/plain": [
       "<matplotlib.legend.Legend at 0x14b4b37d0>"
      ]
     },
     "execution_count": 71,
     "metadata": {},
     "output_type": "execute_result"
    },
    {
     "data": {
      "image/png": "[encoded data removed]",
      "text/plain": [
       "<Figure size 640x480 with 1 Axes>"
      ]
     },
     "metadata": {},
     "output_type": "display_data"
    }
   ],
   "source": []
  },
  {
   "cell_type": "markdown",
   "metadata": {
    "id": "qY3PpDCT6y5r"
   },
   "source": [
    "## 5- Clasificación\n"
   ]
  },
  {
   "cell_type": "code",
   "execution_count": 75,
   "metadata": {},
   "outputs": [
    {
     "data": {
      "text/plain": [
       "<matplotlib.legend.Legend at 0x147d7e510>"
      ]
     },
     "execution_count": 75,
     "metadata": {},
     "output_type": "execute_result"
    },
    {
     "data": {
      "image/png": "[encoded data removed]",
      "text/plain": [
       "<Figure size 1500x500 with 2 Axes>"
      ]
     },
     "metadata": {},
     "output_type": "display_data"
    }
   ],
   "source": [
    "# ¿Qué tan bien reconstruye un dato \"normal\" y uno anormal?\n",
    "rec_normal = autoencoder(x_test_1_s).numpy()\n",
    "rec_anormal = autoencoder(x_test_5_s).numpy()\n",
    "\n",
    "dato = 5\n",
    "\n",
    "plt.figure(figsize=(15, 5))\n",
    "plt.subplot(1, 2, 1)\n",
    "\n",
    "plt.plot(x_test_1_s[dato], \"b\")\n",
    "plt.plot(rec_normal[dato], \"r\")\n",
    "plt.fill_between(np.arange(140), rec_normal[dato], x_test_1_s[dato], color=\"lightcoral\")\n",
    "plt.legend(labels=[\"Original normal\", \"Reconstruction\", \"Error\"])\n",
    "\n",
    "plt.subplot(1, 2, 2)\n",
    "plt.plot(x_test_5_s[dato], \"b\")\n",
    "plt.plot(rec_anormal[dato], \"r\")\n",
    "plt.fill_between(\n",
    "    np.arange(140), rec_anormal[dato], x_test_5_s[dato], color=\"lightcoral\"\n",
    ")\n",
    "plt.legend(labels=[\"Original anormal\", \"Reconstruction\", \"Error\"])"
   ]
  },
  {
   "cell_type": "code",
   "execution_count": 76,
   "metadata": {},
   "outputs": [
    {
     "name": "stdout",
     "output_type": "stream",
     "text": [
      "mae de una muestra normal:  0.026296344\n",
      "mae de una muestra anormal:  0.118844\n"
     ]
    }
   ],
   "source": [
    "# Normal\n",
    "\n",
    "print(\n",
    "    \"mae de una muestra normal: \",\n",
    "    keras.losses.mean_absolute_error(x_test_1_s[dato], rec_normal[dato]).numpy(),\n",
    ")\n",
    "print(\n",
    "    \"mae de una muestra anormal: \",\n",
    "    keras.losses.mean_absolute_error(x_test_5_s[dato], rec_anormal[dato]).numpy(),\n",
    ")"
   ]
  },
  {
   "cell_type": "code",
   "execution_count": 77,
   "metadata": {},
   "outputs": [
    {
     "name": "stdout",
     "output_type": "stream",
     "text": [
      "\u001b[1m35/35\u001b[0m \u001b[32m━━━━━━━━━━━━━━━━━━━━\u001b[0m\u001b[37m\u001b[0m \u001b[1m0s\u001b[0m 3ms/step\n",
      "\u001b[1m22/22\u001b[0m \u001b[32m━━━━━━━━━━━━━━━━━━━━\u001b[0m\u001b[37m\u001b[0m \u001b[1m0s\u001b[0m 2ms/step \n",
      "\u001b[1m2/2\u001b[0m \u001b[32m━━━━━━━━━━━━━━━━━━━━\u001b[0m\u001b[37m\u001b[0m \u001b[1m0s\u001b[0m 6ms/step \n",
      "\u001b[1m2/2\u001b[0m \u001b[32m━━━━━━━━━━━━━━━━━━━━\u001b[0m\u001b[37m\u001b[0m \u001b[1m0s\u001b[0m 3ms/step \n",
      "\u001b[1m1/1\u001b[0m \u001b[32m━━━━━━━━━━━━━━━━━━━━\u001b[0m\u001b[37m\u001b[0m \u001b[1m0s\u001b[0m 45ms/step\n"
     ]
    },
    {
     "data": {
      "text/plain": [
       "<matplotlib.collections.LineCollection at 0x1436bf620>"
      ]
     },
     "execution_count": 77,
     "metadata": {},
     "output_type": "execute_result"
    },
    {
     "data": {
      "image/png": "[encoded data removed]",
      "text/plain": [
       "<Figure size 1000x300 with 1 Axes>"
      ]
     },
     "metadata": {},
     "output_type": "display_data"
    }
   ],
   "source": [
    "# Distribuciones de los errores de construcción\n",
    "# para cada categoría\n",
    "\n",
    "\n",
    "rec_1 = autoencoder.predict(x_test_1_s)\n",
    "rec_2 = autoencoder.predict(x_test_2_s)\n",
    "rec_3 = autoencoder.predict(x_test_3_s)\n",
    "rec_4 = autoencoder.predict(x_test_4_s)\n",
    "rec_5 = autoencoder.predict(x_test_5_s)\n",
    "\n",
    "loss_1 = keras.losses.mean_absolute_error(rec_1, x_test_1_s)\n",
    "loss_2 = keras.losses.mean_absolute_error(rec_2, x_test_2_s)\n",
    "loss_3 = keras.losses.mean_absolute_error(rec_3, x_test_3_s)\n",
    "loss_4 = keras.losses.mean_absolute_error(rec_4, x_test_4_s)\n",
    "loss_5 = keras.losses.mean_absolute_error(rec_5, x_test_5_s)\n",
    "\n",
    "\n",
    "plt.figure(figsize=(10, 3))\n",
    "plt.hist(loss_1[None, :], bins=100, alpha=0.75, label=\"normales (1)\", color=\"blue\")\n",
    "plt.hist(loss_2[None, :], bins=100, alpha=0.75, color=\"#ff521b\", label=\"anormales (2)\")\n",
    "plt.hist(loss_3[None, :], bins=100, alpha=0.75, color=\"#020122\", label=\"anormales (3)\")\n",
    "plt.hist(loss_4[None, :], bins=100, alpha=0.75, color=\"#eefc57\", label=\"anormales (4)\")\n",
    "plt.hist(loss_5[None, :], bins=100, alpha=0.75, color=\"r\", label=\"anormales (5)\")\n",
    "plt.xlabel(\"Pérdidas (MAE)\")\n",
    "plt.ylabel(\"Nro. ejemplos\")\n",
    "plt.legend(loc=\"upper right\")\n",
    "# plt.vlines(0.08,0,70,'k')\n",
    "umbral = np.mean(loss_1) + np.std(loss_1)\n",
    "\n",
    "# Linea vertical\n",
    "plt.vlines(0.03, 0, 70, \"k\")"
   ]
  },
  {
   "cell_type": "code",
   "execution_count": 62,
   "metadata": {
    "colab": {
     "base_uri": "https://localhost:8080/",
     "height": 515
    },
    "executionInfo": {
     "elapsed": 1938,
     "status": "ok",
     "timestamp": 1624652074426,
     "user": {
      "displayName": "Miguel Sotaquirá",
      "photoUrl": "https://lh3.googleusercontent.com/a-/AOh14Giuk6OGsE84qo69ZTgJj4B328D6GfU4etVY0q9AUg=s64",
      "userId": "08038952820764930757"
     },
     "user_tz": 300
    },
    "id": "anB3sJ5CjwJx",
    "outputId": "79ffc2e3-e763-48e8-eb8e-68addd9099d2"
   },
   "outputs": [
    {
     "name": "stdout",
     "output_type": "stream",
     "text": [
      "\u001b[1m35/35\u001b[0m \u001b[32m━━━━━━━━━━━━━━━━━━━━\u001b[0m\u001b[37m\u001b[0m \u001b[1m0s\u001b[0m 1ms/step \n",
      "\u001b[1m22/22\u001b[0m \u001b[32m━━━━━━━━━━━━━━━━━━━━\u001b[0m\u001b[37m\u001b[0m \u001b[1m0s\u001b[0m 1ms/step \n",
      "\u001b[1m2/2\u001b[0m \u001b[32m━━━━━━━━━━━━━━━━━━━━\u001b[0m\u001b[37m\u001b[0m \u001b[1m0s\u001b[0m 2ms/step \n",
      "\u001b[1m2/2\u001b[0m \u001b[32m━━━━━━━━━━━━━━━━━━━━\u001b[0m\u001b[37m\u001b[0m \u001b[1m0s\u001b[0m 3ms/step \n",
      "\u001b[1m1/1\u001b[0m \u001b[32m━━━━━━━━━━━━━━━━━━━━\u001b[0m\u001b[37m\u001b[0m \u001b[1m0s\u001b[0m 23ms/step\n"
     ]
    },
    {
     "data": {
      "text/plain": [
       "<matplotlib.collections.LineCollection at 0x14a13fce0>"
      ]
     },
     "execution_count": 62,
     "metadata": {},
     "output_type": "execute_result"
    },
    {
     "data": {
      "image/png": "[encoded data removed]",
      "text/plain": [
       "<Figure size 1000x300 with 1 Axes>"
      ]
     },
     "metadata": {},
     "output_type": "display_data"
    }
   ],
   "source": []
  },
  {
   "cell_type": "markdown",
   "metadata": {
    "id": "WLHf3Qkl76Gv"
   },
   "source": [
    "### 5.1. Sensitividad y especificidad\n",
    "\n",
    "- Verdaderos positivos (TP): anormales que han sido correctamente clasificados como anormales\n",
    "- Falsos negativos (FN): anormales que han sido clasificados erróneamente como normales\n",
    "- Verdaderos negativos (TN): normales que han sido correctamente clasificados como normales\n",
    "- Falsos positivos (FP): normales que han sido clasificados erróneamente como anormales\n",
    "\n",
    "La **precisión** mide la proporción de pacientes detectados como enfermos que realmente están enfermos:\n",
    "\n",
    "$precisión = \\frac{TP}{TP+FP}$\n",
    "\n",
    "La **sensitividad** mide la proporción de anormales que fueron detectados correctamente como anormales. Una sensitividad del 100% detectará a todos los pacientes enfermos:\n",
    "\n",
    "$sensitividad (Recall) = \\frac{TP}{TP+FN}$\n",
    "\n",
    "La **especificidad** mide la proporción de normales que fueron detectados correctamente como normales. Una especificidad del 100% detectará a todos los pacientes sanos:\n",
    "\n",
    "$especificidad (Negative Recall) = \\frac{TN}{TN+FP}$\n"
   ]
  },
  {
   "cell_type": "code",
   "execution_count": 56,
   "metadata": {
    "executionInfo": {
     "elapsed": 168,
     "status": "ok",
     "timestamp": 1624652583259,
     "user": {
      "displayName": "Miguel Sotaquirá",
      "photoUrl": "https://lh3.googleusercontent.com/a-/AOh14Giuk6OGsE84qo69ZTgJj4B328D6GfU4etVY0q9AUg=s64",
      "userId": "08038952820764930757"
     },
     "user_tz": 300
    },
    "id": "jSiVwHm3gEwp"
   },
   "outputs": [],
   "source": [
    "# Calcular predicciones individuales\n",
    "def predecir(modelo, datos, umbral):\n",
    "    reconstrucciones = modelo(datos)\n",
    "    perdida = keras.losses.mean_absolute_error(reconstrucciones, datos).numpy()\n",
    "    return perdida < umbral\n",
    "\n",
    "\n",
    "def calcular_sensitividad(prediccion, titulo):\n",
    "    TP = np.count_nonzero(~prediccion)\n",
    "    FN = np.count_nonzero(prediccion)\n",
    "    sen = 100 * (TP / (TP + FN))\n",
    "\n",
    "    print(titulo + \": {:.1f}%\".format(sen))\n",
    "\n",
    "\n",
    "def calcular_especificidad(prediccion, titulo):\n",
    "    TN = np.count_nonzero(prediccion)\n",
    "    FP = np.count_nonzero(~prediccion)\n",
    "    esp = 100 * (TN / (TN + FP))\n",
    "\n",
    "    print(titulo + \": {:.1f}%\".format(esp))\n",
    "    return esp"
   ]
  },
  {
   "cell_type": "code",
   "execution_count": 63,
   "metadata": {},
   "outputs": [
    {
     "name": "stdout",
     "output_type": "stream",
     "text": [
      "\u001b[1m 1/35\u001b[0m \u001b[37m━━━━━━━━━━━━━━━━━━━━\u001b[0m \u001b[1m1s\u001b[0m 40ms/step"
     ]
    },
    {
     "name": "stdout",
     "output_type": "stream",
     "text": [
      "\u001b[1m35/35\u001b[0m \u001b[32m━━━━━━━━━━━━━━━━━━━━\u001b[0m\u001b[37m\u001b[0m \u001b[1m0s\u001b[0m 2ms/step\n",
      "\u001b[1m22/22\u001b[0m \u001b[32m━━━━━━━━━━━━━━━━━━━━\u001b[0m\u001b[37m\u001b[0m \u001b[1m0s\u001b[0m 7ms/step\n",
      "\u001b[1m2/2\u001b[0m \u001b[32m━━━━━━━━━━━━━━━━━━━━\u001b[0m\u001b[37m\u001b[0m \u001b[1m0s\u001b[0m 3ms/step \n",
      "\u001b[1m2/2\u001b[0m \u001b[32m━━━━━━━━━━━━━━━━━━━━\u001b[0m\u001b[37m\u001b[0m \u001b[1m0s\u001b[0m 3ms/step \n",
      "\u001b[1m1/1\u001b[0m \u001b[32m━━━━━━━━━━━━━━━━━━━━\u001b[0m\u001b[37m\u001b[0m \u001b[1m0s\u001b[0m 24ms/step\n",
      "Especificidad (cat. 1, normales): 85.4%\n",
      "Sensitividad (Recall) (cat. 2, anormales): 100.0%\n",
      "Sensitividad (Recall) (cat. 3, anormales): 97.0%\n",
      "Sensitividad (Recall) (cat. 4, anormales): 100.0%\n",
      "Sensitividad (Recall) (cat. 5, anormales): 97.0%\n"
     ]
    },
    {
     "data": {
      "image/png": "[encoded data removed]",
      "text/plain": [
       "<Figure size 1000x300 with 1 Axes>"
      ]
     },
     "metadata": {},
     "output_type": "display_data"
    }
   ],
   "source": [
    "umbral = np.mean(loss_1) + np.std(loss_1)\n",
    "umbral = 0.08\n",
    "\n",
    "\n",
    "# Distribuciones de los errores de construcción\n",
    "# para cada categoría\n",
    "\n",
    "import tensorflow as tf\n",
    "\n",
    "rec_1 = autoencoder.predict(x_test_1_s)\n",
    "rec_2 = autoencoder.predict(x_test_2_s)\n",
    "rec_3 = autoencoder.predict(x_test_3_s)\n",
    "rec_4 = autoencoder.predict(x_test_4_s)\n",
    "rec_5 = autoencoder.predict(x_test_5_s)\n",
    "\n",
    "loss_1 = keras.losses.mean_absolute_error(rec_1, x_test_1_s)\n",
    "loss_2 = keras.losses.mean_absolute_error(rec_2, x_test_2_s)\n",
    "loss_3 = keras.losses.mean_absolute_error(rec_3, x_test_3_s)\n",
    "loss_4 = keras.losses.mean_absolute_error(rec_4, x_test_4_s)\n",
    "loss_5 = keras.losses.mean_absolute_error(rec_5, x_test_5_s)\n",
    "\n",
    "\n",
    "plt.figure(figsize=(10, 3))\n",
    "plt.hist(loss_1[None, :], bins=100, alpha=0.75, label=\"normales (1)\", color=\"blue\")\n",
    "plt.hist(loss_2[None, :], bins=100, alpha=0.75, color=\"#ff521b\", label=\"anormales (2)\")\n",
    "plt.hist(loss_3[None, :], bins=100, alpha=0.75, color=\"#020122\", label=\"anormales (3)\")\n",
    "plt.hist(loss_4[None, :], bins=100, alpha=0.75, color=\"#eefc57\", label=\"anormales (4)\")\n",
    "plt.hist(loss_5[None, :], bins=100, alpha=0.75, color=\"r\", label=\"anormales (5)\")\n",
    "plt.xlabel(\"Pérdidas (MAE)\")\n",
    "plt.ylabel(\"Nro. ejemplos\")\n",
    "plt.legend(loc=\"upper right\")\n",
    "# plt.vlines(0.08,0,70,'k')\n",
    "# umbral = np.mean(loss_1) + np.std(loss_1)\n",
    "\n",
    "# Linea vertical\n",
    "plt.vlines(umbral, 0, 70, \"k\")\n",
    "\n",
    "# Diferencia entre especificidad y sensibilidad\n",
    "# Dónde pondrías el umbral en el caso de la primera ola de la pandemia?\n",
    "# Y en el caso de una detección de problemas cardiacos en un apple watch?\n",
    "\n",
    "# Predicciones\n",
    "pred_1 = predecir(autoencoder, x_test_1_s, umbral)\n",
    "pred_2 = predecir(autoencoder, x_test_2_s, umbral)\n",
    "pred_3 = predecir(autoencoder, x_test_3_s, umbral)\n",
    "pred_4 = predecir(autoencoder, x_test_4_s, umbral)\n",
    "pred_5 = predecir(autoencoder, x_test_5_s, umbral)\n",
    "\n",
    "# Pred1: especificidad\n",
    "esp_1 = calcular_especificidad(pred_1, \"Especificidad (cat. 1, normales)\")\n",
    "\n",
    "# Pred 2 a 5: sensitividad\n",
    "sen_2 = calcular_sensitividad(pred_2, \"Sensitividad (Recall) (cat. 2, anormales)\")\n",
    "sen_3 = calcular_sensitividad(pred_3, \"Sensitividad (Recall) (cat. 3, anormales)\")\n",
    "sen_4 = calcular_sensitividad(pred_4, \"Sensitividad (Recall) (cat. 4, anormales)\")\n",
    "sen_5 = calcular_sensitividad(pred_3, \"Sensitividad (Recall) (cat. 5, anormales)\")"
   ]
  }
 ],
 "metadata": {
  "accelerator": "GPU",
  "colab": {
   "authorship_tag": "ABX9TyPQZUtauxwQoo7R/goG2XUa",
   "collapsed_sections": [
    "2LhggqVYpbKD",
    "4lYLeQiZqBU_",
    "Hu3rYuYQrp6z",
    "RiGV9o2W39T0",
    "qY3PpDCT6y5r",
    "WLHf3Qkl76Gv"
   ],
   "name": "Autoencoder_AnomaliasECG.ipynb",
   "provenance": []
  },
  "kernelspec": {
   "display_name": ".venv",
   "language": "python",
   "name": "python3"
  },
  "language_info": {
   "codemirror_mode": {
    "name": "ipython",
    "version": 3
   },
   "file_extension": ".py",
   "mimetype": "text/x-python",
   "name": "python",
   "nbconvert_exporter": "python",
   "pygments_lexer": "ipython3",
   "version": "3.12.3"
  }
 },
 "nbformat": 4,
 "nbformat_minor": 1
}
